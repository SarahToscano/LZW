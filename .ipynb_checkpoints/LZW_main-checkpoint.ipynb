{
 "cells": [
  {
   "cell_type": "markdown",
   "metadata": {},
   "source": [
    "# Disciplina: Introdução à Teoria da Informação \n",
    "\n",
    "## Projeto (Parte 1): Compressor e Descompressor de dados com LZW\n",
    "\n",
    "### Dupla: Gabriel Patrício (20170170889) e Sarah Carvalho (20170022975)\n"
   ]
  },
  {
   "cell_type": "markdown",
   "metadata": {},
   "source": [
    "**Descrição do Projeto**: \n",
    "\n",
    "Implemente um compressor e descompressor com o algoritmo LZW. Considere que as\n",
    "mensagens são geradas por fontes com alfabeto A = {0, 1, ..., 255}. Teste o\n",
    "compressor/descompressor com um corpus de texto em português de 16MB e com um\n",
    "arquivo binário de vídeo.\n",
    "\n",
    "O índice do dicionário deve ser testado com diferentes tamanhos K bits\n",
    "(parâmetro). Exemplo: K=9bits tamanho do dicionário: 2^9=512, K=\n",
    "10bits tamanho do\n",
    "dicionário 2^10\n",
    "=1024. No relatório apresente as curvas de\n",
    "RC x K e de Tempo de\n",
    "Processamento x K, para K = 9, 10,\n",
    "11, 12, 13, 14, 15,\n",
    "16 bits. Indique também a\n",
    "quantidade total de índices presentes na mensagem final para cada K.\n",
    "\n",
    "**_Observações:_**\n",
    "\n",
    "•\n",
    "Os símbolos do arquivo de teste devem ser lidos no modo binário (número\n",
    "s) e não\n",
    "no modo texto (caracteres/strings).\n",
    "\n",
    "•\n",
    "O codificador deve receber como entrada um arquivo e gerar c\n",
    "omo saída o\n",
    "arquivo codificado"
   ]
  },
  {
   "cell_type": "code",
   "execution_count": 1,
   "metadata": {},
   "outputs": [],
   "source": [
    "import binascii"
   ]
  },
  {
   "cell_type": "code",
   "execution_count": 2,
   "metadata": {},
   "outputs": [],
   "source": [
    "corpus= 'database/corpus16MB.txt';\n",
    "teste = 'database/teste.txt';\n",
    "video = 'database/video.mp4';"
   ]
  },
  {
   "cell_type": "code",
   "execution_count": 3,
   "metadata": {},
   "outputs": [],
   "source": [
    "bin_data = open(teste, \"rb\").read()\n",
    "data_size=len(bin_data)"
   ]
  },
  {
   "cell_type": "code",
   "execution_count": 4,
   "metadata": {},
   "outputs": [],
   "source": [
    "# df = ' '.join(format(x, '08b') for x in bytearray(bin_data))"
   ]
  },
  {
   "cell_type": "code",
   "execution_count": 5,
   "metadata": {},
   "outputs": [],
   "source": [
    "# df[:80]"
   ]
  },
  {
   "cell_type": "code",
   "execution_count": 6,
   "metadata": {},
   "outputs": [
    {
     "data": {
      "text/plain": [
       "11"
      ]
     },
     "execution_count": 6,
     "metadata": {},
     "output_type": "execute_result"
    }
   ],
   "source": [
    "len(bin_data)"
   ]
  },
  {
   "cell_type": "code",
   "execution_count": 7,
   "metadata": {},
   "outputs": [],
   "source": [
    "# df[4]"
   ]
  },
  {
   "cell_type": "code",
   "execution_count": 8,
   "metadata": {},
   "outputs": [],
   "source": [
    "# size = len(df)\n",
    "# size"
   ]
  },
  {
   "cell_type": "markdown",
   "metadata": {},
   "source": [
    "## Criando o dicionário"
   ]
  },
  {
   "cell_type": "code",
   "execution_count": 9,
   "metadata": {},
   "outputs": [],
   "source": [
    "K = 9 #Change this line to modify the dictionary size  \n",
    "dictionary_size_half = int((2 ** K)/2)\n",
    "dictionary_size_full = 2 ** K   "
   ]
  },
  {
   "cell_type": "code",
   "execution_count": 10,
   "metadata": {},
   "outputs": [
    {
     "name": "stdout",
     "output_type": "stream",
     "text": [
      "256\n"
     ]
    }
   ],
   "source": [
    "print(dictionary_size_half)"
   ]
  },
  {
   "cell_type": "code",
   "execution_count": 11,
   "metadata": {},
   "outputs": [],
   "source": [
    "dictionary = {chr(i): i for i in range(0,dictionary_size_half)} #represents unicode code point of the character) "
   ]
  },
  {
   "cell_type": "code",
   "execution_count": 19,
   "metadata": {},
   "outputs": [
    {
     "data": {
      "text/plain": [
       "dict_keys(['\\x00', '\\x01', '\\x02', '\\x03', '\\x04', '\\x05', '\\x06', '\\x07', '\\x08', '\\t', '\\n', '\\x0b', '\\x0c', '\\r', '\\x0e', '\\x0f', '\\x10', '\\x11', '\\x12', '\\x13', '\\x14', '\\x15', '\\x16', '\\x17', '\\x18', '\\x19', '\\x1a', '\\x1b', '\\x1c', '\\x1d', '\\x1e', '\\x1f', ' ', '!', '\"', '#', '$', '%', '&', \"'\", '(', ')', '*', '+', ',', '-', '.', '/', '0', '1', '2', '3', '4', '5', '6', '7', '8', '9', ':', ';', '<', '=', '>', '?', '@', 'A', 'B', 'C', 'D', 'E', 'F', 'G', 'H', 'I', 'J', 'K', 'L', 'M', 'N', 'O', 'P', 'Q', 'R', 'S', 'T', 'U', 'V', 'W', 'X', 'Y', 'Z', '[', '\\\\', ']', '^', '_', '`', 'a', 'b', 'c', 'd', 'e', 'f', 'g', 'h', 'i', 'j', 'k', 'l', 'm', 'n', 'o', 'p', 'q', 'r', 's', 't', 'u', 'v', 'w', 'x', 'y', 'z', '{', '|', '}', '~', '\\x7f', '\\x80', '\\x81', '\\x82', '\\x83', '\\x84', '\\x85', '\\x86', '\\x87', '\\x88', '\\x89', '\\x8a', '\\x8b', '\\x8c', '\\x8d', '\\x8e', '\\x8f', '\\x90', '\\x91', '\\x92', '\\x93', '\\x94', '\\x95', '\\x96', '\\x97', '\\x98', '\\x99', '\\x9a', '\\x9b', '\\x9c', '\\x9d', '\\x9e', '\\x9f', '\\xa0', '¡', '¢', '£', '¤', '¥', '¦', '§', '¨', '©', 'ª', '«', '¬', '\\xad', '®', '¯', '°', '±', '²', '³', '´', 'µ', '¶', '·', '¸', '¹', 'º', '»', '¼', '½', '¾', '¿', 'À', 'Á', 'Â', 'Ã', 'Ä', 'Å', 'Æ', 'Ç', 'È', 'É', 'Ê', 'Ë', 'Ì', 'Í', 'Î', 'Ï', 'Ð', 'Ñ', 'Ò', 'Ó', 'Ô', 'Õ', 'Ö', '×', 'Ø', 'Ù', 'Ú', 'Û', 'Ü', 'Ý', 'Þ', 'ß', 'à', 'á', 'â', 'ã', 'ä', 'å', 'æ', 'ç', 'è', 'é', 'ê', 'ë', 'ì', 'í', 'î', 'ï', 'ð', 'ñ', 'ò', 'ó', 'ô', 'õ', 'ö', '÷', 'ø', 'ù', 'ú', 'û', 'ü', 'ý', 'þ', 'ÿ', b'a', b'b', b'r', b'ac', b'c', b'ad', b'd', b'ab', b'br', b'ra'])"
      ]
     },
     "execution_count": 19,
     "metadata": {},
     "output_type": "execute_result"
    }
   ],
   "source": [
    "dictionary.keys()"
   ]
  },
  {
   "cell_type": "code",
   "execution_count": 12,
   "metadata": {},
   "outputs": [
    {
     "name": "stdout",
     "output_type": "stream",
     "text": [
      "b'abracadabra'\n"
     ]
    }
   ],
   "source": [
    "print(bin_data)"
   ]
  },
  {
   "cell_type": "code",
   "execution_count": 13,
   "metadata": {},
   "outputs": [],
   "source": [
    "codificado=[]"
   ]
  },
  {
   "cell_type": "code",
   "execution_count": 14,
   "metadata": {},
   "outputs": [
    {
     "data": {
      "text/plain": [
       "11"
      ]
     },
     "execution_count": 14,
     "metadata": {},
     "output_type": "execute_result"
    }
   ],
   "source": [
    "data_size"
   ]
  },
  {
   "cell_type": "raw",
   "metadata": {},
   "source": [
    "j=dictionary_size_half+1\n",
    "i=0\n",
    "a=[]\n",
    "count=0\n",
    "\n",
    "while((j!=dictionary_size_full) and (i < data_size)):#Roda até o dicionario ficar cheio e o texto ser lido por intei\n",
    "    \n",
    "    if (bin_data[i] in dict_list): #abracadabra\n",
    "        count=i\n",
    "        if(i==0):\n",
    "            codificado.append(bin_data[i])\n",
    "        else:\n",
    "            if(bin_data[i] not in codificado): \n",
    "                codificado.append(bin_data[i])            \n",
    "        x=str(bin_data[count])\n",
    "        \n",
    "        while (x in dict_list):\n",
    "            \n",
    "            count+=1\n",
    "            if(count<data_size):\n",
    "                x+=str(bin_data[count])\n",
    "            else:\n",
    "                break\n",
    "        if(x not in dict_list):\n",
    "            dict_list.append(x) #Adiciona as duplas de letras no dict\n",
    "            print('entrou no dic +', x)\n",
    "        j+=1 #Adicionou um indice\n",
    "        i+=1 #Avança um caracter\n",
    "        \n",
    "    else: \n",
    "        dict_list.append(bin_data[i])\n",
    "        j+=1 #Adicionou um indice\n",
    "        i+=1 #Avança um caracter\n"
   ]
  },
  {
   "cell_type": "code",
   "execution_count": 15,
   "metadata": {},
   "outputs": [
    {
     "name": "stdout",
     "output_type": "stream",
     "text": [
      "b'a'\n",
      "b'b'\n",
      "b'r'\n",
      "b'ac'\n",
      "b'c'\n",
      "b'ad'\n",
      "b'd'\n",
      "b'ab'\n",
      "b'br'\n",
      "b'ra'\n",
      "b'a'\n"
     ]
    }
   ],
   "source": [
    "j=dictionary_size_half\n",
    "i=0\n",
    "a=[]\n",
    "count=0\n",
    "y=bin_data[0]\n",
    "rs = []\n",
    "while((j!=dictionary_size_full) and (i < data_size)):#Roda até o dicionario ficar cheio e o texto ser lido por intei\n",
    "    \n",
    "    if (bin_data[i] in dictionary.values()): #abracadabra\n",
    "        count=i\n",
    "        if(i==0):\n",
    "            codificado.append(bin_data[i])\n",
    "        else:\n",
    "            if(bin_data[i] not in codificado): \n",
    "                codificado.append(bin_data[i])            \n",
    "        x=binascii.unhexlify('%x' % bin_data[count])\n",
    "        \n",
    "        while (x in dictionary.keys()):  \n",
    "            count+=1\n",
    "            if(count<data_size):\n",
    "                y=x;\n",
    "                x+=binascii.unhexlify('%x' % bin_data[count])\n",
    "            else:\n",
    "                break\n",
    "        print(x)\n",
    "        if(x not in dictionary.keys()):\n",
    "            dictionary[x]=j #Adiciona as duplas de letras no dict\n",
    "            j+=1 #Adicionou um indice\n",
    "#             print(j, \"  x = \", x)\n",
    "            if(y not in codificado): \n",
    "                codificado.append(y)  \n",
    "        i+=1 #Avança um caracter\n",
    "        \n",
    "    else: \n",
    "        dictionary[bin_data[i]]=j\n",
    "        j+=1 #Adicionou um indice\n",
    "        i+=1 #Avança um caracter\n"
   ]
  },
  {
   "cell_type": "code",
   "execution_count": 16,
   "metadata": {},
   "outputs": [
    {
     "data": {
      "text/plain": [
       "b'a'"
      ]
     },
     "execution_count": 16,
     "metadata": {},
     "output_type": "execute_result"
    }
   ],
   "source": [
    "x"
   ]
  },
  {
   "cell_type": "code",
   "execution_count": 17,
   "metadata": {},
   "outputs": [
    {
     "data": {
      "text/plain": [
       "{'\\x00': 0,\n",
       " '\\x01': 1,\n",
       " '\\x02': 2,\n",
       " '\\x03': 3,\n",
       " '\\x04': 4,\n",
       " '\\x05': 5,\n",
       " '\\x06': 6,\n",
       " '\\x07': 7,\n",
       " '\\x08': 8,\n",
       " '\\t': 9,\n",
       " '\\n': 10,\n",
       " '\\x0b': 11,\n",
       " '\\x0c': 12,\n",
       " '\\r': 13,\n",
       " '\\x0e': 14,\n",
       " '\\x0f': 15,\n",
       " '\\x10': 16,\n",
       " '\\x11': 17,\n",
       " '\\x12': 18,\n",
       " '\\x13': 19,\n",
       " '\\x14': 20,\n",
       " '\\x15': 21,\n",
       " '\\x16': 22,\n",
       " '\\x17': 23,\n",
       " '\\x18': 24,\n",
       " '\\x19': 25,\n",
       " '\\x1a': 26,\n",
       " '\\x1b': 27,\n",
       " '\\x1c': 28,\n",
       " '\\x1d': 29,\n",
       " '\\x1e': 30,\n",
       " '\\x1f': 31,\n",
       " ' ': 32,\n",
       " '!': 33,\n",
       " '\"': 34,\n",
       " '#': 35,\n",
       " '$': 36,\n",
       " '%': 37,\n",
       " '&': 38,\n",
       " \"'\": 39,\n",
       " '(': 40,\n",
       " ')': 41,\n",
       " '*': 42,\n",
       " '+': 43,\n",
       " ',': 44,\n",
       " '-': 45,\n",
       " '.': 46,\n",
       " '/': 47,\n",
       " '0': 48,\n",
       " '1': 49,\n",
       " '2': 50,\n",
       " '3': 51,\n",
       " '4': 52,\n",
       " '5': 53,\n",
       " '6': 54,\n",
       " '7': 55,\n",
       " '8': 56,\n",
       " '9': 57,\n",
       " ':': 58,\n",
       " ';': 59,\n",
       " '<': 60,\n",
       " '=': 61,\n",
       " '>': 62,\n",
       " '?': 63,\n",
       " '@': 64,\n",
       " 'A': 65,\n",
       " 'B': 66,\n",
       " 'C': 67,\n",
       " 'D': 68,\n",
       " 'E': 69,\n",
       " 'F': 70,\n",
       " 'G': 71,\n",
       " 'H': 72,\n",
       " 'I': 73,\n",
       " 'J': 74,\n",
       " 'K': 75,\n",
       " 'L': 76,\n",
       " 'M': 77,\n",
       " 'N': 78,\n",
       " 'O': 79,\n",
       " 'P': 80,\n",
       " 'Q': 81,\n",
       " 'R': 82,\n",
       " 'S': 83,\n",
       " 'T': 84,\n",
       " 'U': 85,\n",
       " 'V': 86,\n",
       " 'W': 87,\n",
       " 'X': 88,\n",
       " 'Y': 89,\n",
       " 'Z': 90,\n",
       " '[': 91,\n",
       " '\\\\': 92,\n",
       " ']': 93,\n",
       " '^': 94,\n",
       " '_': 95,\n",
       " '`': 96,\n",
       " 'a': 97,\n",
       " 'b': 98,\n",
       " 'c': 99,\n",
       " 'd': 100,\n",
       " 'e': 101,\n",
       " 'f': 102,\n",
       " 'g': 103,\n",
       " 'h': 104,\n",
       " 'i': 105,\n",
       " 'j': 106,\n",
       " 'k': 107,\n",
       " 'l': 108,\n",
       " 'm': 109,\n",
       " 'n': 110,\n",
       " 'o': 111,\n",
       " 'p': 112,\n",
       " 'q': 113,\n",
       " 'r': 114,\n",
       " 's': 115,\n",
       " 't': 116,\n",
       " 'u': 117,\n",
       " 'v': 118,\n",
       " 'w': 119,\n",
       " 'x': 120,\n",
       " 'y': 121,\n",
       " 'z': 122,\n",
       " '{': 123,\n",
       " '|': 124,\n",
       " '}': 125,\n",
       " '~': 126,\n",
       " '\\x7f': 127,\n",
       " '\\x80': 128,\n",
       " '\\x81': 129,\n",
       " '\\x82': 130,\n",
       " '\\x83': 131,\n",
       " '\\x84': 132,\n",
       " '\\x85': 133,\n",
       " '\\x86': 134,\n",
       " '\\x87': 135,\n",
       " '\\x88': 136,\n",
       " '\\x89': 137,\n",
       " '\\x8a': 138,\n",
       " '\\x8b': 139,\n",
       " '\\x8c': 140,\n",
       " '\\x8d': 141,\n",
       " '\\x8e': 142,\n",
       " '\\x8f': 143,\n",
       " '\\x90': 144,\n",
       " '\\x91': 145,\n",
       " '\\x92': 146,\n",
       " '\\x93': 147,\n",
       " '\\x94': 148,\n",
       " '\\x95': 149,\n",
       " '\\x96': 150,\n",
       " '\\x97': 151,\n",
       " '\\x98': 152,\n",
       " '\\x99': 153,\n",
       " '\\x9a': 154,\n",
       " '\\x9b': 155,\n",
       " '\\x9c': 156,\n",
       " '\\x9d': 157,\n",
       " '\\x9e': 158,\n",
       " '\\x9f': 159,\n",
       " '\\xa0': 160,\n",
       " '¡': 161,\n",
       " '¢': 162,\n",
       " '£': 163,\n",
       " '¤': 164,\n",
       " '¥': 165,\n",
       " '¦': 166,\n",
       " '§': 167,\n",
       " '¨': 168,\n",
       " '©': 169,\n",
       " 'ª': 170,\n",
       " '«': 171,\n",
       " '¬': 172,\n",
       " '\\xad': 173,\n",
       " '®': 174,\n",
       " '¯': 175,\n",
       " '°': 176,\n",
       " '±': 177,\n",
       " '²': 178,\n",
       " '³': 179,\n",
       " '´': 180,\n",
       " 'µ': 181,\n",
       " '¶': 182,\n",
       " '·': 183,\n",
       " '¸': 184,\n",
       " '¹': 185,\n",
       " 'º': 186,\n",
       " '»': 187,\n",
       " '¼': 188,\n",
       " '½': 189,\n",
       " '¾': 190,\n",
       " '¿': 191,\n",
       " 'À': 192,\n",
       " 'Á': 193,\n",
       " 'Â': 194,\n",
       " 'Ã': 195,\n",
       " 'Ä': 196,\n",
       " 'Å': 197,\n",
       " 'Æ': 198,\n",
       " 'Ç': 199,\n",
       " 'È': 200,\n",
       " 'É': 201,\n",
       " 'Ê': 202,\n",
       " 'Ë': 203,\n",
       " 'Ì': 204,\n",
       " 'Í': 205,\n",
       " 'Î': 206,\n",
       " 'Ï': 207,\n",
       " 'Ð': 208,\n",
       " 'Ñ': 209,\n",
       " 'Ò': 210,\n",
       " 'Ó': 211,\n",
       " 'Ô': 212,\n",
       " 'Õ': 213,\n",
       " 'Ö': 214,\n",
       " '×': 215,\n",
       " 'Ø': 216,\n",
       " 'Ù': 217,\n",
       " 'Ú': 218,\n",
       " 'Û': 219,\n",
       " 'Ü': 220,\n",
       " 'Ý': 221,\n",
       " 'Þ': 222,\n",
       " 'ß': 223,\n",
       " 'à': 224,\n",
       " 'á': 225,\n",
       " 'â': 226,\n",
       " 'ã': 227,\n",
       " 'ä': 228,\n",
       " 'å': 229,\n",
       " 'æ': 230,\n",
       " 'ç': 231,\n",
       " 'è': 232,\n",
       " 'é': 233,\n",
       " 'ê': 234,\n",
       " 'ë': 235,\n",
       " 'ì': 236,\n",
       " 'í': 237,\n",
       " 'î': 238,\n",
       " 'ï': 239,\n",
       " 'ð': 240,\n",
       " 'ñ': 241,\n",
       " 'ò': 242,\n",
       " 'ó': 243,\n",
       " 'ô': 244,\n",
       " 'õ': 245,\n",
       " 'ö': 246,\n",
       " '÷': 247,\n",
       " 'ø': 248,\n",
       " 'ù': 249,\n",
       " 'ú': 250,\n",
       " 'û': 251,\n",
       " 'ü': 252,\n",
       " 'ý': 253,\n",
       " 'þ': 254,\n",
       " 'ÿ': 255,\n",
       " b'a': 256,\n",
       " b'b': 257,\n",
       " b'r': 258,\n",
       " b'ac': 259,\n",
       " b'c': 260,\n",
       " b'ad': 261,\n",
       " b'd': 262,\n",
       " b'ab': 263,\n",
       " b'br': 264,\n",
       " b'ra': 265}"
      ]
     },
     "execution_count": 17,
     "metadata": {},
     "output_type": "execute_result"
    }
   ],
   "source": [
    "dictionary"
   ]
  },
  {
   "cell_type": "raw",
   "metadata": {},
   "source": [
    "j=dictionary_size_half+1\n",
    "i=0\n",
    "a=[]\n",
    "flag=0\n",
    "\n",
    "#abracadabra\n",
    "while(j!=dictionary_size_full):  \n",
    "    if (bin_data[i] in dict_list):\n",
    "        codificado.append(bin_data[i])\n",
    "        \n",
    "        dict_list.append(j+1) #Adiciona as duplas de letras no dict\n",
    "        j+=1 #Adicionou um indice\n",
    "        i+=1 #Avança um caracter\n",
    "    else: \n",
    "        dict_list.append(bin_data[i])\n",
    "        j+=1 #Adicionou um indice\n",
    "        i+=1 #Avança um caracter\n",
    "    if(i==len(bin_data)):\n",
    "        break"
   ]
  },
  {
   "cell_type": "code",
   "execution_count": 18,
   "metadata": {},
   "outputs": [
    {
     "ename": "NameError",
     "evalue": "name 'dict_list' is not defined",
     "output_type": "error",
     "traceback": [
      "\u001b[1;31m---------------------------------------------------------------------------\u001b[0m",
      "\u001b[1;31mNameError\u001b[0m                                 Traceback (most recent call last)",
      "\u001b[1;32m<ipython-input-18-d37476cf3bf9>\u001b[0m in \u001b[0;36m<module>\u001b[1;34m\u001b[0m\n\u001b[1;32m----> 1\u001b[1;33m \u001b[0mlen\u001b[0m\u001b[1;33m(\u001b[0m\u001b[0mdict_list\u001b[0m\u001b[1;33m)\u001b[0m\u001b[1;33m\u001b[0m\u001b[1;33m\u001b[0m\u001b[0m\n\u001b[0m",
      "\u001b[1;31mNameError\u001b[0m: name 'dict_list' is not defined"
     ]
    }
   ],
   "source": [
    "len(dict_list)"
   ]
  },
  {
   "cell_type": "code",
   "execution_count": null,
   "metadata": {},
   "outputs": [],
   "source": [
    "codificado"
   ]
  },
  {
   "cell_type": "code",
   "execution_count": null,
   "metadata": {},
   "outputs": [],
   "source": [
    "#dictionary = {chr(df[i]): i for i in range(dictionary_size_half)} #represents unicode code point of the character)    \n",
    "j=0\n",
    "i=0\n",
    "a=[]\n",
    "flag=0\n",
    "\n",
    "while(j!=dictionary_size_half):#represents unicode code point of the character)  \n",
    "    if(i==0):\n",
    "        a.append(bin_data[i])\n",
    "        i+=1 #Avança um caracter\n",
    "        j+=1 #Adicionou um indice\n",
    "    else:\n",
    "        if (bin_data[i] in a):\n",
    "            i+=1 #Avança um caracter\n",
    "        else: \n",
    "            a.append(bin_data[i])\n",
    "            j+=1 # Adicionou um indice\n",
    "            \n",
    "    if(i==len(bin_data)):\n",
    "        break #O texto tem menos de 250 caracteres unicos\n"
   ]
  },
  {
   "cell_type": "code",
   "execution_count": null,
   "metadata": {},
   "outputs": [],
   "source": [
    "len(dictionary)"
   ]
  },
  {
   "cell_type": "code",
   "execution_count": null,
   "metadata": {},
   "outputs": [],
   "source": [
    "for i in range (dictionary_size_half+1, dictionary_size_full):\n",
    "    dictionary['string'] = i\n"
   ]
  },
  {
   "cell_type": "code",
   "execution_count": null,
   "metadata": {},
   "outputs": [],
   "source": [
    "dictionary"
   ]
  },
  {
   "cell_type": "code",
   "execution_count": null,
   "metadata": {},
   "outputs": [],
   "source": [
    "len(dictionary)"
   ]
  },
  {
   "cell_type": "code",
   "execution_count": null,
   "metadata": {},
   "outputs": [],
   "source": [
    "dictionary"
   ]
  },
  {
   "cell_type": "code",
   "execution_count": null,
   "metadata": {},
   "outputs": [],
   "source": [
    "#a = map(bin,bytearray(dictionary))\n",
    "dictionary = ' '.join(format(ord(x), '08b') for x in dictionary)\n",
    "dictionary"
   ]
  },
  {
   "cell_type": "code",
   "execution_count": null,
   "metadata": {},
   "outputs": [],
   "source": [
    "s = \"\" # empty string\n",
    "compr_data = [] #compressed data\n",
    "count=0\n",
    "i=0;"
   ]
  },
  {
   "cell_type": "raw",
   "metadata": {},
   "source": [
    "#while ( could read a new byte from DF into c )\n",
    "b=[]\n",
    "a=''\n",
    "for i in df:     \n",
    "    if i!=\" \":\n",
    "        a+=i\n",
    "    if len(a)==8:\n",
    "        b.append(a)\n",
    "        a=''\n",
    "    \n",
    "\n",
    "\n",
    "# '01000001 00100000 01010010 01010101 01000001 00001101 00001010 00001101 00001010 01000101 \n",
    "# 01110101 00100000 01100001 01101101 01101111 00100000 011000'\n",
    "\n",
    "    \n",
    "   "
   ]
  },
  {
   "cell_type": "code",
   "execution_count": null,
   "metadata": {},
   "outputs": [],
   "source": [
    "print(b[:15]) "
   ]
  },
  {
   "cell_type": "raw",
   "metadata": {},
   "source": [
    "for i in b:\n",
    "    if i in dictionary:\n",
    "        s = i"
   ]
  },
  {
   "cell_type": "raw",
   "metadata": {},
   "source": [
    "out = input_file.split(\".\")[0]\n",
    "output_file = open(out + \".lzw\", \"wb\")\n",
    "for data in compressed_data:\n",
    "    output_file.write(pack('>H',int(data)))"
   ]
  },
  {
   "cell_type": "raw",
   "metadata": {},
   "source": [
    "import binascii\n",
    "import copy\n",
    "\n",
    "K = 9\n",
    "\n",
    "def fileToBinaryText(path):\n",
    "    file = open(path).read()\n",
    "    return ' '.join(format(ord(i), 'd') for i in file).split() #alterar 0:08b\n",
    "\n",
    "codificacao = fileToBinaryText(\"corpus16MB.txt\")\n",
    "# print(codificacao)\n",
    "\n",
    "next = pow(2,8) #256\n",
    "\n",
    "dicionario = {}\n",
    "for i in range(0,256):\n",
    "    dicionario[str(i)] = [str(i)] #alterar \"{0:08b}\".format(i)\n",
    "\n",
    "# print(dicionario[\"4\"])   #00000100 = 4 \n",
    "fim = ''\n",
    "indice = 0\n",
    "\n",
    "while indice < len(codificacao):\n",
    "    letra = codificacao[indice]\n",
    "#    print('Byte da vez: ' + letra)\n",
    "    bigKey = letra #chave\n",
    "    bigFreq = 1 #frequencia de coincidencia \n",
    "    for key,valor in dicionario.items(): #eh pra achar coincidencias dentro do dicionario\n",
    "         if letra == valor[0]:\n",
    "        #    print('\\tencontrou correspondente para em: %s -> [%s]' % (key,','.join(map(str,valor))))\n",
    "            freq = 1\n",
    "            for l in range(1,len(valor)): # l = numero entra 1 e o tamanho do valor atual no dicionario\n",
    "                if indice + l != len(codificacao) and codificacao[indice+l] == valor[l]: \n",
    "                    #se eu n to na ultima letra da mensagem e a proxima letra da mensagem = proxima letra do valor no dicionario\n",
    "                    freq += 1   # ma = ma\n",
    "                else:\n",
    "        #            print('\\t\\tacabou a coincidencia em %d' % freq)\n",
    "                    break\n",
    "        #    print('\\tfreq = %d' % freq)\n",
    "            if freq > bigFreq:\n",
    "                bigFreq = freq\n",
    "                bigKey = key\n",
    "    fim = fim + bigKey + ' '  #LEMBRAR DE TIRAR O ' ' DEPOIS!!!!!!!!!!!!!!!!!!!!!!!!!!!!!!!!!!!!!!!!!!!!!!!!!!!!!!!!!!!!!!!!!!!!!!!!!!!!!!!!!!!!!!!!!!!!!\n",
    "    if (indice + len(dicionario[bigKey])) != len(codificacao) and len(dicionario) < pow(2,K): #se a mensagem nao acabou e dicionario nao ta cheio\n",
    "        #adicionar novos elementos no dicionario\n",
    "        new = str(next)     #alterar \"{0:08b}\".format(i)\n",
    "        dicionario[new] = copy.deepcopy(dicionario[bigKey]) #M\n",
    "        dicionario[new].append(codificacao[indice + len(dicionario[bigKey])])  #append A\n",
    "    #    print('novo indice no dicionario: %s -> [%s]' % (new, ','.join(map(str,dicionario[new]))))\n",
    "        next += 1\n",
    "    indice += len(dicionario[bigKey]) \n",
    "\n",
    "#ISSO AQUI EH SO PRINT\n",
    "print('dicionario apos 255:')\n",
    "listadict = []\n",
    "for i in dicionario.keys():\n",
    "    if int(i) >= 256:\n",
    "        listadict.append(i)\n",
    "listadict.sort()\n",
    "for i in listadict:\n",
    "    print('%s -> %s' %(i, ','.join(map(str,dicionario[i]))))\n",
    "print('mensagem final: %s' % fim)  "
   ]
  },
  {
   "cell_type": "code",
   "execution_count": null,
   "metadata": {},
   "outputs": [],
   "source": [
    "def writeFile(path, texto):\n",
    "    file = open(path, \"wb\")\n",
    "    file.write(texto)\n",
    "\n",
    "def binaryTextTofile(text):\n",
    "    textArray = bytearray(text, \"utf8\")\n",
    "    byteList = []\n",
    "    for byte in textArray:\n",
    "        byteList.append(bin(byte))\n",
    "    return byteList\n",
    "\n",
    "arr = [97]                 #ISSO AQUI VAI SER MASSA NO FUTURO KKKKK IMAGINA TRUNKS CHEGANDO COM UM ARRAY DE 98 CASAS PRA MATAR O CELL \n",
    "format = bytearray(arr)    \n",
    "writeFile(\"outoputo.txt\", format)\n",
    "\n",
    "# decodificacao = binaryTextTofile(codificacao)\n",
    "# print(decodificacao)"
   ]
  },
  {
   "cell_type": "code",
   "execution_count": null,
   "metadata": {},
   "outputs": [],
   "source": [
    "abracadabra"
   ]
  },
  {
   "cell_type": "code",
   "execution_count": 13,
   "metadata": {},
   "outputs": [],
   "source": [
    "import os\n",
    "import sys\n",
    "import struct\n",
    "import pathlib\n",
    "from typing import List, Dict"
   ]
  },
  {
   "cell_type": "code",
   "execution_count": 14,
   "metadata": {},
   "outputs": [],
   "source": [
    "from tqdm import tqdm\n",
    "\n",
    "\n",
    "class Decompressor():\n",
    "    def __init__(self, data, dictionary):\n",
    "        self.data = data\n",
    "        self.dictionary = dictionary\n",
    "\n",
    "    def run(self):\n",
    "        decoded_message, current_index = [], \"256\"\n",
    "        first_letter = self.dictionary[str(self.data[0])]\n",
    "        decoded_message.append(first_letter.decode('latin_1'))\n",
    "        self.dictionary[current_index] = first_letter\n",
    "\n",
    "        progress_bar = tqdm(total=len(self.data)-1, iterable=self.data,\n",
    "                            desc='Decompression iterations and timing ⌚️')\n",
    "\n",
    "        for i in range(1, len(self.data)):\n",
    "            code = str(self.data[i])\n",
    "            decoded_symbol = self.dictionary[code].decode(\n",
    "                'latin_1')\n",
    "            symbol = decoded_symbol[0] if len(\n",
    "                decoded_symbol) else decoded_symbol\n",
    "\n",
    "            self.dictionary[current_index] = self.dictionary[current_index] + \\\n",
    "                symbol.encode('latin_1')\n",
    "\n",
    "            current_index = str(int(current_index) + 1)\n",
    "            self.dictionary[current_index] = self.dictionary[code]\n",
    "\n",
    "            decoded_message.append(\n",
    "                self.dictionary[code].decode('latin_1'))\n",
    "\n",
    "            progress_bar.update(1)\n",
    "\n",
    "        progress_bar.close()\n",
    "        return \"\".join(decoded_message)"
   ]
  },
  {
   "cell_type": "code",
   "execution_count": 15,
   "metadata": {},
   "outputs": [],
   "source": [
    " def decompress(self, data, file_name, k):\n",
    "        decompressor = Decompressor(\n",
    "            data=data, dictionary=self.init_decode_dictionary(k=k, file_type=file_name.split(\".\")[-1]))\n",
    "        decoded_message = decompressor.run()\n",
    "\n",
    "        return decoded_message"
   ]
  },
  {
   "cell_type": "code",
   "execution_count": 16,
   "metadata": {},
   "outputs": [
    {
     "name": "stdout",
     "output_type": "stream",
     "text": [
      "82421343\n"
     ]
    },
    {
     "ename": "error",
     "evalue": "unpack requires a buffer of 82421344 bytes",
     "output_type": "error",
     "traceback": [
      "\u001b[1;31m---------------------------------------------------------------------------\u001b[0m",
      "\u001b[1;31merror\u001b[0m                                     Traceback (most recent call last)",
      "\u001b[1;32m<ipython-input-16-5f49b30ad801>\u001b[0m in \u001b[0;36m<module>\u001b[1;34m\u001b[0m\n\u001b[0;32m      2\u001b[0m            \u001b[0mfile_bytes\u001b[0m \u001b[1;33m=\u001b[0m \u001b[0minput_file\u001b[0m\u001b[1;33m.\u001b[0m\u001b[0mread\u001b[0m\u001b[1;33m(\u001b[0m\u001b[1;33m)\u001b[0m\u001b[1;33m\u001b[0m\u001b[1;33m\u001b[0m\u001b[0m\n\u001b[0;32m      3\u001b[0m            \u001b[0mprint\u001b[0m\u001b[1;33m(\u001b[0m\u001b[0mlen\u001b[0m\u001b[1;33m(\u001b[0m\u001b[0mfile_bytes\u001b[0m\u001b[1;33m)\u001b[0m\u001b[1;33m)\u001b[0m\u001b[1;33m\u001b[0m\u001b[1;33m\u001b[0m\u001b[0m\n\u001b[1;32m----> 4\u001b[1;33m            bytes_to_string_list = struct.unpack(\n\u001b[0m\u001b[0;32m      5\u001b[0m                f\">{'H'*(round(len(file_bytes)/2))}\", file_bytes)\n\u001b[0;32m      6\u001b[0m            decoded_message = lzw.decompress(\n",
      "\u001b[1;31merror\u001b[0m: unpack requires a buffer of 82421344 bytes"
     ]
    }
   ],
   "source": [
    " with open(file=f\"../LTZ/arquivo_comprimido.bin\", mode='rb') as input_file:\n",
    "            file_bytes = input_file.read()\n",
    "            print(len(file_bytes))\n",
    "            bytes_to_string_list = struct.unpack(\n",
    "                f\">{'H'*(round(len(file_bytes)/2))}\", file_bytes)\n",
    "            decoded_message = lzw.decompress(\n",
    "                data=bytes_to_string_list, k=int(16), file_name=file_name)\n",
    "\n",
    "            print(\"ORIGINAL DECODED MESSAGE -> \", len(decoded_message))\n",
    "            file_for_decoded_message = open(\n",
    "                file=f'./data/large_inputs/decompression/{file_name}',\n",
    "                mode='wb'\n",
    "            )\n",
    "            file_for_decoded_message.write(\n",
    "                decoded_message.encode('latin_1'))\n",
    "            file_for_decoded_message.close()"
   ]
  },
  {
   "cell_type": "code",
   "execution_count": null,
   "metadata": {},
   "outputs": [],
   "source": []
  }
 ],
 "metadata": {
  "kernelspec": {
   "display_name": "Python 3",
   "language": "python",
   "name": "python3"
  },
  "language_info": {
   "codemirror_mode": {
    "name": "ipython",
    "version": 3
   },
   "file_extension": ".py",
   "mimetype": "text/x-python",
   "name": "python",
   "nbconvert_exporter": "python",
   "pygments_lexer": "ipython3",
   "version": "3.8.3"
  }
 },
 "nbformat": 4,
 "nbformat_minor": 4
}
