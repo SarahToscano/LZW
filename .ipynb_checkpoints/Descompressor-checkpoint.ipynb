{
 "cells": [
  {
   "cell_type": "code",
   "execution_count": 1,
   "metadata": {},
   "outputs": [],
   "source": [
    "import os\n",
    "import sys\n",
    "import struct\n",
    "import pathlib\n",
    "from typing import List, Dict"
   ]
  },
  {
   "cell_type": "code",
   "execution_count": 2,
   "metadata": {},
   "outputs": [],
   "source": [
    "from tqdm import tqdm\n",
    "\n",
    "\n",
    "class Decompressor():\n",
    "    def __init__(self, data, dictionary):\n",
    "        self.data = data\n",
    "        self.dictionary = dictionary\n",
    "\n",
    "    def run(self):\n",
    "        decoded_message, current_index = [], \"256\"\n",
    "        first_letter = self.dictionary[str(self.data[0])]\n",
    "        decoded_message.append(first_letter.decode('latin_1'))\n",
    "        self.dictionary[current_index] = first_letter\n",
    "\n",
    "        progress_bar = tqdm(total=len(self.data)-1, iterable=self.data,\n",
    "                            desc='Decompression iterations and timing ⌚️')\n",
    "\n",
    "        for i in range(1, len(self.data)):\n",
    "            code = str(self.data[i])\n",
    "            decoded_symbol = self.dictionary[code].decode(\n",
    "                'latin_1')\n",
    "            symbol = decoded_symbol[0] if len(\n",
    "                decoded_symbol) else decoded_symbol\n",
    "\n",
    "            self.dictionary[current_index] = self.dictionary[current_index] + \\\n",
    "                symbol.encode('latin_1')\n",
    "\n",
    "            current_index = str(int(current_index) + 1)\n",
    "            self.dictionary[current_index] = self.dictionary[code]\n",
    "\n",
    "            decoded_message.append(\n",
    "                self.dictionary[code].decode('latin_1'))\n",
    "\n",
    "            progress_bar.update(1)\n",
    "\n",
    "        progress_bar.close()\n",
    "        return \"\".join(decoded_message)"
   ]
  },
  {
   "cell_type": "code",
   "execution_count": 3,
   "metadata": {},
   "outputs": [],
   "source": [
    " def decompress(self, data, file_name, k):\n",
    "        decompressor = Decompressor(\n",
    "            data=data, dictionary=self.init_decode_dictionary(k=k, file_type=file_name.split(\".\")[-1]))\n",
    "        decoded_message = decompressor.run()\n",
    "\n",
    "        return decoded_message"
   ]
  },
  {
   "cell_type": "code",
   "execution_count": 8,
   "metadata": {},
   "outputs": [
    {
     "name": "stdout",
     "output_type": "stream",
     "text": [
      "18315854\n"
     ]
    },
    {
     "ename": "AttributeError",
     "evalue": "'tuple' object has no attribute 'init_decode_dictionary'",
     "output_type": "error",
     "traceback": [
      "\u001b[1;31m---------------------------------------------------------------------------\u001b[0m",
      "\u001b[1;31mAttributeError\u001b[0m                            Traceback (most recent call last)",
      "\u001b[1;32m<ipython-input-8-f30e87248c3a>\u001b[0m in \u001b[0;36m<module>\u001b[1;34m\u001b[0m\n\u001b[0;32m      5\u001b[0m                f\">{'H'*(round(len(file_bytes)/2))}\", file_bytes)\n\u001b[0;32m      6\u001b[0m            decoded_message = decompress(\n\u001b[1;32m----> 7\u001b[1;33m                 data=bytes_to_string_list, k=int(16), file_name='arquivo_decodificado', self =bytes_to_string_list)\n\u001b[0m\u001b[0;32m      8\u001b[0m \u001b[1;33m\u001b[0m\u001b[0m\n\u001b[0;32m      9\u001b[0m            \u001b[0mprint\u001b[0m\u001b[1;33m(\u001b[0m\u001b[1;34m\"ORIGINAL DECODED MESSAGE -> \"\u001b[0m\u001b[1;33m,\u001b[0m \u001b[0mlen\u001b[0m\u001b[1;33m(\u001b[0m\u001b[0mdecoded_message\u001b[0m\u001b[1;33m)\u001b[0m\u001b[1;33m)\u001b[0m\u001b[1;33m\u001b[0m\u001b[1;33m\u001b[0m\u001b[0m\n",
      "\u001b[1;32m<ipython-input-3-8bca72451e6c>\u001b[0m in \u001b[0;36mdecompress\u001b[1;34m(self, data, file_name, k)\u001b[0m\n\u001b[0;32m      1\u001b[0m \u001b[1;32mdef\u001b[0m \u001b[0mdecompress\u001b[0m\u001b[1;33m(\u001b[0m\u001b[0mself\u001b[0m\u001b[1;33m,\u001b[0m \u001b[0mdata\u001b[0m\u001b[1;33m,\u001b[0m \u001b[0mfile_name\u001b[0m\u001b[1;33m,\u001b[0m \u001b[0mk\u001b[0m\u001b[1;33m)\u001b[0m\u001b[1;33m:\u001b[0m\u001b[1;33m\u001b[0m\u001b[1;33m\u001b[0m\u001b[0m\n\u001b[0;32m      2\u001b[0m        decompressor = Decompressor(\n\u001b[1;32m----> 3\u001b[1;33m            data=data, dictionary=self.init_decode_dictionary(k=k, file_type=file_name.split(\".\")[-1]))\n\u001b[0m\u001b[0;32m      4\u001b[0m        \u001b[0mdecoded_message\u001b[0m \u001b[1;33m=\u001b[0m \u001b[0mdecompressor\u001b[0m\u001b[1;33m.\u001b[0m\u001b[0mrun\u001b[0m\u001b[1;33m(\u001b[0m\u001b[1;33m)\u001b[0m\u001b[1;33m\u001b[0m\u001b[1;33m\u001b[0m\u001b[0m\n\u001b[0;32m      5\u001b[0m \u001b[1;33m\u001b[0m\u001b[0m\n",
      "\u001b[1;31mAttributeError\u001b[0m: 'tuple' object has no attribute 'init_decode_dictionary'"
     ]
    }
   ],
   "source": [
    "file_name = \"corpus_descomprimido.txt\"\n",
    "\n",
    "with open(file=f\"./compressed_files/corpus16MB_K_9.bin\", mode='rb') as input_file:\n",
    "        file_bytes = input_file.read()\n",
    "        print(len(file_bytes))\n",
    "        bytes_to_string_list = struct.unpack(\n",
    "            f\">{'H'*(round(len(file_bytes)/2))}\", file_bytes)\n",
    "        decoded_message = lzw.decompress(\n",
    "            data=bytes_to_string_list, k=int(16), file_name=file_name)\n",
    "\n",
    "        print(\"ORIGINAL DECODED MESSAGE -> \", len(decoded_message))\n",
    "        file_for_decoded_message = open(\n",
    "            file=f'./uncompressed_files/{file_name}',\n",
    "            mode='wb'\n",
    "        )\n",
    "        file_for_decoded_message.write(\n",
    "            decoded_message.encode('latin_1'))\n",
    "        file_for_decoded_message.close()"
   ]
  },
  {
   "cell_type": "code",
   "execution_count": null,
   "metadata": {},
   "outputs": [],
   "source": []
  }
 ],
 "metadata": {
  "kernelspec": {
   "display_name": "Python 3",
   "language": "python",
   "name": "python3"
  },
  "language_info": {
   "codemirror_mode": {
    "name": "ipython",
    "version": 3
   },
   "file_extension": ".py",
   "mimetype": "text/x-python",
   "name": "python",
   "nbconvert_exporter": "python",
   "pygments_lexer": "ipython3",
   "version": "3.7.4"
  }
 },
 "nbformat": 4,
 "nbformat_minor": 4
}
