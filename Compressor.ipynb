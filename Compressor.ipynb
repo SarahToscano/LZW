{
 "cells": [
  {
   "cell_type": "markdown",
   "metadata": {},
   "source": [
    "# Disciplina: Introdução à Teoria da Informação \n",
    "\n",
    "## Projeto (Parte 1): Compressor e Descompressor de dados com LZW\n",
    "\n",
    "### Dupla: Gabriel Patrício (20170170889) e Sarah Carvalho (20170022975)\n"
   ]
  },
  {
   "cell_type": "markdown",
   "metadata": {},
   "source": [
    "**Descrição do Projeto**: \n",
    "\n",
    "Implemente um compressor e descompressor com o algoritmo LZW. Considere que as\n",
    "mensagens são geradas por fontes com alfabeto A = {0, 1, ..., 255}. Teste o\n",
    "compressor/descompressor com um corpus de texto em português de 16MB e com um\n",
    "arquivo binário de vídeo.\n",
    "\n",
    "O índice do dicionário deve ser testado com diferentes tamanhos K bits\n",
    "(parâmetro). Exemplo: K=9bits tamanho do dicionário: 2^9=512, K=\n",
    "10bits tamanho do\n",
    "dicionário 2^10\n",
    "=1024. No relatório apresente as curvas de\n",
    "RC x K e de Tempo de\n",
    "Processamento x K, para K = 9, 10,\n",
    "11, 12, 13, 14, 15,\n",
    "16 bits. Indique também a\n",
    "quantidade total de índices presentes na mensagem final para cada K.\n",
    "\n",
    "**_Observações:_**\n",
    "\n",
    "•\n",
    "Os símbolos do arquivo de teste devem ser lidos no modo binário (número\n",
    "s) e não\n",
    "no modo texto (caracteres/strings).\n",
    "\n",
    "•\n",
    "O codificador deve receber como entrada um arquivo e gerar c\n",
    "omo saída o\n",
    "arquivo codificado"
   ]
  },
  {
   "cell_type": "code",
   "execution_count": 1,
   "metadata": {},
   "outputs": [],
   "source": [
    "import binascii\n",
    "import time\n",
    "import os\n",
    "import sys \n",
    "import struct"
   ]
  },
  {
   "cell_type": "code",
   "execution_count": 2,
   "metadata": {},
   "outputs": [],
   "source": [
    "corpus= './database/corpus16MB.txt';\n",
    "teste = './database/teste.txt';\n",
    "video = './database/video.mp4';\n",
    "file_selected = corpus"
   ]
  },
  {
   "cell_type": "code",
   "execution_count": 3,
   "metadata": {},
   "outputs": [],
   "source": [
    "bin_data = open(file_selected, \"rb\").read()\n",
    "data_size=len(bin_data)"
   ]
  },
  {
   "cell_type": "code",
   "execution_count": 4,
   "metadata": {},
   "outputs": [],
   "source": [
    "bin_data = bin_data.decode('latin1')"
   ]
  },
  {
   "cell_type": "markdown",
   "metadata": {},
   "source": [
    "## Criando o dicionário"
   ]
  },
  {
   "cell_type": "code",
   "execution_count": 5,
   "metadata": {},
   "outputs": [],
   "source": [
    "K = 9 #Change this line to modify the dictionary size  \n",
    "dictionary_size_half = int((2 ** K)/2)\n",
    "dictionary_size_full = 2 ** K   \n"
   ]
  },
  {
   "cell_type": "code",
   "execution_count": 6,
   "metadata": {},
   "outputs": [],
   "source": [
    "dictionary = {i.to_bytes(1, byteorder='big'): i for i in range(0,256)} #represents unicode code point of the character) "
   ]
  },
  {
   "cell_type": "code",
   "execution_count": 7,
   "metadata": {},
   "outputs": [],
   "source": [
    "dict_keys = list(dictionary.keys())\n",
    "s=0\n",
    "aa = []\n",
    "for i in range(0, 256):\n",
    "    aa.append(''.join(dict_keys[i].decode('latin1')))\n"
   ]
  },
  {
   "cell_type": "code",
   "execution_count": 8,
   "metadata": {},
   "outputs": [],
   "source": [
    "codificado_char=[]\n",
    "codificado_int=[]"
   ]
  },
  {
   "cell_type": "markdown",
   "metadata": {},
   "source": [
    "## Codificando"
   ]
  },
  {
   "cell_type": "code",
   "execution_count": 9,
   "metadata": {},
   "outputs": [],
   "source": [
    "j=dictionary_size_half\n",
    "i=0\n",
    "a=[]\n",
    "count=0\n",
    "y=bin_data[0]\n",
    "rs = []\n",
    "k=0\n",
    "inicio = time.time()\n",
    "\n",
    "while((i < data_size)):\n",
    "    \n",
    "    aux = bin_data[i]\n",
    "    if (aux in aa):\n",
    "        count=i \n",
    "        k=aa.index(aux) #Salva o indice do caracter\n",
    "        x = aux\n",
    "\n",
    "        while (x in aa): #Lógica para concatenação dos caracteres e checagem no dicionario\n",
    "            count+=1\n",
    "            if(count<data_size):\n",
    "                y=x;\n",
    "                k=aa.index(aux) #Salva o indice do caracter\n",
    "                aux = bin_data[count]\n",
    "                a = aux\n",
    "                x+=a\n",
    "            else:\n",
    "                break\n",
    "        if(x not in aa):\n",
    "            if(j<dictionary_size_full):\n",
    "                aa.append(x)\n",
    "            j+=1 #Adicionou um indice\n",
    "        else:\n",
    "            y=x\n",
    "        k=aa.index(y)\n",
    "        codificado_int.append(k)\n",
    "        codificado_char.append(y)\n",
    "                \n",
    "        i+=len(y) #Avança um caracter\n",
    "        \n",
    "    else: \n",
    "        if(j<dictionary_size_full):\n",
    "            aa.append(aux)\n",
    "        j+=1 #Adicionou um indice\n",
    "        i+=1 #Avança um caracter\n",
    "\n",
    "fim = time.time()"
   ]
  },
  {
   "cell_type": "code",
   "execution_count": 10,
   "metadata": {},
   "outputs": [
    {
     "name": "stdout",
     "output_type": "stream",
     "text": [
      "Demorou: 6.783687222003937 minutos\n"
     ]
    }
   ],
   "source": [
    "print(\"Demorou:\", ((fim-inicio)/60), \"minutos\")"
   ]
  },
  {
   "cell_type": "code",
   "execution_count": 11,
   "metadata": {},
   "outputs": [],
   "source": [
    "compressed_file = open(f'./compressed_files/{file_selected[11:-4]}_K_{K}.bin', 'wb')\n",
    "compressed_file.write(struct.pack(\n",
    "            f\">{'H'*len(codificado_int)}\", *codificado_int))\n",
    "compressed_file.close()"
   ]
  },
  {
   "cell_type": "code",
   "execution_count": 12,
   "metadata": {},
   "outputs": [
    {
     "name": "stdout",
     "output_type": "stream",
     "text": [
      "Tamanho do arquivo antes da compressão  15637070 B\n"
     ]
    }
   ],
   "source": [
    "indices_codificados = len(codificado_int)   \n",
    "print(\"Tamanho do arquivo antes da compressão \", os.path.getsize(file_selected), \"B\")"
   ]
  },
  {
   "cell_type": "code",
   "execution_count": 13,
   "metadata": {},
   "outputs": [
    {
     "name": "stdout",
     "output_type": "stream",
     "text": [
      "Quantidade de índices codificados:  9157927\n",
      "Tamanho esperado: 18315854 B\n",
      "Tamanho obtido  : 18315854 B\n"
     ]
    }
   ],
   "source": [
    "print(\"Quantidade de índices codificados: \", indices_codificados)\n",
    "print(\"Tamanho esperado:\", indices_codificados*2, 'B')\n",
    "print(\"Tamanho obtido  :\", os.path.getsize(f'./compressed_files/{file_selected[11:-4]}_K_{K}.bin'), 'B')"
   ]
  },
  {
   "cell_type": "code",
   "execution_count": null,
   "metadata": {},
   "outputs": [],
   "source": []
  }
 ],
 "metadata": {
  "kernelspec": {
   "display_name": "Python 3",
   "language": "python",
   "name": "python3"
  },
  "language_info": {
   "codemirror_mode": {
    "name": "ipython",
    "version": 3
   },
   "file_extension": ".py",
   "mimetype": "text/x-python",
   "name": "python",
   "nbconvert_exporter": "python",
   "pygments_lexer": "ipython3",
   "version": "3.7.4"
  }
 },
 "nbformat": 4,
 "nbformat_minor": 4
}
