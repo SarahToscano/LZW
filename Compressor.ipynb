{
 "cells": [
  {
   "cell_type": "markdown",
   "metadata": {},
   "source": [
    "# Disciplina: Introdução à Teoria da Informação \n",
    "\n",
    "## Projeto (Parte 1): Compressor e Descompressor de dados com LZW\n",
    "\n",
    "### Dupla: Gabriel Patrício (20170170889) e Sarah Carvalho (20170022975)\n"
   ]
  },
  {
   "cell_type": "markdown",
   "metadata": {},
   "source": [
    "**Descrição do Projeto**: \n",
    "\n",
    "Implemente um compressor e descompressor com o algoritmo LZW. Considere que as\n",
    "mensagens são geradas por fontes com alfabeto A = {0, 1, ..., 255}. Teste o\n",
    "compressor/descompressor com um corpus de texto em português de 16MB e com um\n",
    "arquivo binário de vídeo.\n",
    "\n",
    "O índice do dicionário deve ser testado com diferentes tamanhos K bits\n",
    "(parâmetro). Exemplo: K=9bits tamanho do dicionário: 2^9=512, K=\n",
    "10bits tamanho do\n",
    "dicionário 2^10\n",
    "=1024. No relatório apresente as curvas de\n",
    "RC x K e de Tempo de\n",
    "Processamento x K, para K = 9, 10,\n",
    "11, 12, 13, 14, 15,\n",
    "16 bits. Indique também a\n",
    "quantidade total de índices presentes na mensagem final para cada K.\n",
    "\n",
    "**_Observações:_**\n",
    "\n",
    "•\n",
    "Os símbolos do arquivo de teste devem ser lidos no modo binário (número\n",
    "s) e não\n",
    "no modo texto (caracteres/strings).\n",
    "\n",
    "•\n",
    "O codificador deve receber como entrada um arquivo e gerar c\n",
    "omo saída o\n",
    "arquivo codificado"
   ]
  },
  {
   "cell_type": "code",
   "execution_count": 60,
   "metadata": {},
   "outputs": [],
   "source": [
    "import binascii\n",
    "import time\n",
    "import os\n",
    "import sys \n",
    "import struct"
   ]
  },
  {
   "cell_type": "code",
   "execution_count": 61,
   "metadata": {},
   "outputs": [],
   "source": [
    "corpus= './database/corpus16MB.txt';\n",
    "teste = './database/teste.txt';\n",
    "video = './database/video.mp4';\n",
    "file_selected = corpus"
   ]
  },
  {
   "cell_type": "code",
   "execution_count": 62,
   "metadata": {},
   "outputs": [],
   "source": [
    "bin_data = open(file_selected, \"rb\").read()\n",
    "data_size=len(bin_data)"
   ]
  },
  {
   "cell_type": "code",
   "execution_count": 63,
   "metadata": {},
   "outputs": [],
   "source": [
    "bin_data = bin_data.decode('latin1')"
   ]
  },
  {
   "cell_type": "markdown",
   "metadata": {},
   "source": [
    "## Criando o dicionário"
   ]
  },
  {
   "cell_type": "code",
   "execution_count": 64,
   "metadata": {},
   "outputs": [],
   "source": [
    "K = 9 #Change this line to modify the dictionary size  \n",
    "dictionary_size_half = int((2 ** K)/2)\n",
    "dictionary_size_full = 2 ** K   \n"
   ]
  },
  {
   "cell_type": "code",
   "execution_count": 65,
   "metadata": {},
   "outputs": [],
   "source": [
    "dictionary = {i.to_bytes(1, byteorder='big'): i for i in range(0,256)} #represents unicode code point of the character) "
   ]
  },
  {
   "cell_type": "code",
   "execution_count": 66,
   "metadata": {},
   "outputs": [],
   "source": [
    "dict_keys = list(dictionary.keys())\n",
    "s=0\n",
    "aa = []\n",
    "for i in range(0, 256):\n",
    "    aa.append(''.join(dict_keys[i].decode('latin1')))"
   ]
  },
  {
   "cell_type": "code",
   "execution_count": 67,
   "metadata": {},
   "outputs": [],
   "source": [
    "codificado_char=[]\n",
    "codificado_int=[]"
   ]
  },
  {
   "cell_type": "markdown",
   "metadata": {},
   "source": [
    "## Codificando"
   ]
  },
  {
   "cell_type": "code",
   "execution_count": 68,
   "metadata": {},
   "outputs": [],
   "source": [
    "j=dictionary_size_half\n",
    "i=0\n",
    "a=[]\n",
    "count=0\n",
    "y=bin_data[0]\n",
    "rs = []\n",
    "k=0\n",
    "inicio = time.time()\n",
    "\n",
    "while((i < data_size)):\n",
    "    \n",
    "    aux = bin_data[i]\n",
    "    if (aux in aa):\n",
    "        count=i \n",
    "        k=aa.index(aux) #Salva o indice do caracter\n",
    "        x = aux\n",
    "\n",
    "        while (x in aa): #Lógica para concatenação dos caracteres e checagem no dicionario\n",
    "            count+=1\n",
    "            if(count<data_size):\n",
    "                y=x;\n",
    "                k=aa.index(aux) #Salva o indice do caracter\n",
    "                aux = bin_data[count]\n",
    "                a = aux\n",
    "                x+=a\n",
    "            else:\n",
    "                break\n",
    "        if(x not in aa):\n",
    "            if(j<dictionary_size_full):\n",
    "                aa.append(x)\n",
    "            j+=1 #Adicionou um indice\n",
    "        else:\n",
    "            y=x\n",
    "        k=aa.index(y)\n",
    "        codificado_int.append(k)\n",
    "        codificado_char.append(y)\n",
    "                \n",
    "        i+=len(y) #Avança um caracter\n",
    "        \n",
    "    else: \n",
    "        if(j<dictionary_size_full):\n",
    "            aa.append(aux)\n",
    "        j+=1 #Adicionou um indice\n",
    "        i+=1 #Avança um caracter\n",
    "\n",
    "fim = time.time()"
   ]
  },
  {
   "cell_type": "code",
   "execution_count": 69,
   "metadata": {},
   "outputs": [
    {
     "name": "stdout",
     "output_type": "stream",
     "text": [
      "Demorou: 4.483208302656809 minutos\n"
     ]
    }
   ],
   "source": [
    "print(\"Demorou:\", ((fim-inicio)/60), \"minutos\")"
   ]
  },
  {
   "cell_type": "code",
   "execution_count": 70,
   "metadata": {},
   "outputs": [],
   "source": [
    "compressed_file = open(f'./compressed_files/{file_selected[11:-4]}_K_{K}.bin', 'wb')\n",
    "compressed_file.write(struct.pack(\n",
    "            f\">{'H'*len(codificado_int)}\", *codificado_int))\n",
    "compressed_file.close()"
   ]
  },
  {
   "cell_type": "code",
   "execution_count": 71,
   "metadata": {},
   "outputs": [
    {
     "name": "stdout",
     "output_type": "stream",
     "text": [
      "Tamanho do arquivo antes da compressão  15637070 B\n"
     ]
    }
   ],
   "source": [
    "indices_codificados = len(codificado_int)   \n",
    "print(\"Tamanho do arquivo antes da compressão \", os.path.getsize(file_selected), \"B\")"
   ]
  },
  {
   "cell_type": "code",
   "execution_count": 72,
   "metadata": {},
   "outputs": [
    {
     "name": "stdout",
     "output_type": "stream",
     "text": [
      "Quantidade de índices codificados:  9157927\n",
      "Tamanho esperado: 18315854 B\n",
      "Tamanho obtido  : 18315854 B\n"
     ]
    }
   ],
   "source": [
    "print(\"Quantidade de índices codificados: \", indices_codificados)\n",
    "print(\"Tamanho esperado:\", indices_codificados*2, 'B')\n",
    "print(\"Tamanho obtido  :\", os.path.getsize(f'./compressed_files/{file_selected[11:-4]}_K_{K}.bin'), 'B')"
   ]
  },
  {
   "cell_type": "code",
   "execution_count": 73,
   "metadata": {},
   "outputs": [],
   "source": [
    "import os\n",
    "import sys\n",
    "import struct\n",
    "import pathlib\n",
    "from typing import List, Dict"
   ]
  },
  {
   "cell_type": "code",
   "execution_count": 89,
   "metadata": {},
   "outputs": [],
   "source": [
    "def run(data, dictionary):\n",
    "    decoded_message, current_index = [], \"256\"\n",
    "    first_letter = dictionary[str(data[0])]\n",
    "    decoded_message.append(first_letter.decode('latin_1'))\n",
    "    dictionary[current_index] = first_letter\n",
    "\n",
    "    progress_bar = tqdm(total=len(data)-1, iterable=data,\n",
    "                        desc='Decompression iterations and timing ⌚️')\n",
    "\n",
    "    for i in range(1, len(data)):\n",
    "        code = str(data[i])\n",
    "        decoded_symbol = dictionary[code].decode(\n",
    "            'latin_1')\n",
    "        symbol = decoded_symbol[0] if len(\n",
    "            decoded_symbol) else decoded_symbol\n",
    "\n",
    "        dictionary[current_index] = dictionary[current_index] + \\\n",
    "            symbol.encode('latin_1')\n",
    "\n",
    "        current_index = str(int(current_index) + 1)\n",
    "        dictionary[current_index] = dictionary[code]\n",
    "\n",
    "        decoded_message.append(\n",
    "            dictionary[code].decode('latin_1'))\n",
    "\n",
    "        progress_bar.update(1)\n",
    "\n",
    "    progress_bar.close()\n",
    "    return \"\".join(decoded_message)"
   ]
  },
  {
   "cell_type": "code",
   "execution_count": 90,
   "metadata": {},
   "outputs": [],
   "source": [
    "dictionary2 = {}\n",
    "for i in range(256):\n",
    "    dictionary2[f'{i}'] = i.to_bytes(1, 'big')"
   ]
  },
  {
   "cell_type": "code",
   "execution_count": 92,
   "metadata": {},
   "outputs": [
    {
     "name": "stdout",
     "output_type": "stream",
     "text": [
      "18315854\n"
     ]
    },
    {
     "name": "stderr",
     "output_type": "stream",
     "text": [
      "Decompression iterations and timing ⌚️: 100%|███████████████████████████| 9157926/9157926 [00:21<00:00, 433942.66it/s]\n"
     ]
    },
    {
     "name": "stdout",
     "output_type": "stream",
     "text": [
      "ORIGINAL DECODED MESSAGE ->  15637070\n"
     ]
    }
   ],
   "source": [
    "with open(file=f\"./compressed_files/corpus16MB_K_9.bin\", mode='rb') as input_file:\n",
    "        file_bytes = input_file.read()\n",
    "        print(len(file_bytes))\n",
    "        bytes_to_string_list = struct.unpack(\n",
    "            f\">{'H'*(round(len(file_bytes)/2))}\", file_bytes)\n",
    "        \n",
    "        decoded_message = run(data=bytes_to_string_list, dictionary=dictionary2)\n",
    "\n",
    "        print(\"ORIGINAL DECODED MESSAGE -> \", len(decoded_message))\n",
    "        file_for_decoded_message = open(\n",
    "            file=f'./corpus',\n",
    "            mode='wb'\n",
    "        )\n",
    "        file_for_decoded_message.write(\n",
    "            decoded_message.encode('latin_1'))\n",
    "        file_for_decoded_message.close()"
   ]
  },
  {
   "cell_type": "code",
   "execution_count": null,
   "metadata": {},
   "outputs": [],
   "source": []
  },
  {
   "cell_type": "code",
   "execution_count": null,
   "metadata": {},
   "outputs": [],
   "source": []
  }
 ],
 "metadata": {
  "kernelspec": {
   "display_name": "Python 3",
   "language": "python",
   "name": "python3"
  },
  "language_info": {
   "codemirror_mode": {
    "name": "ipython",
    "version": 3
   },
   "file_extension": ".py",
   "mimetype": "text/x-python",
   "name": "python",
   "nbconvert_exporter": "python",
   "pygments_lexer": "ipython3",
   "version": "3.8.3"
  }
 },
 "nbformat": 4,
 "nbformat_minor": 4
}
