{
 "cells": [
  {
   "cell_type": "markdown",
   "metadata": {},
   "source": [
    "# Disciplina: Introdução à Teoria da Informação \n",
    "\n",
    "## Projeto (Parte 1): Compressor e Descompressor de dados com LZW\n",
    "\n",
    "### Dupla: Gabriel Patrício (20170170889) e Sarah Carvalho (20170022975)\n"
   ]
  },
  {
   "cell_type": "markdown",
   "metadata": {},
   "source": [
    "**Descrição do Projeto**: \n",
    "\n",
    "Implemente um compressor e descompressor com o algoritmo LZW. Considere que as\n",
    "mensagens são geradas por fontes com alfabeto A = {0, 1, ..., 255}. Teste o\n",
    "compressor/descompressor com um corpus de texto em português de 16MB e com um\n",
    "arquivo binário de vídeo.\n",
    "\n",
    "O índice do dicionário deve ser testado com diferentes tamanhos K bits\n",
    "(parâmetro). Exemplo: K=9bits tamanho do dicionário: 2^9=512, K=\n",
    "10bits tamanho do\n",
    "dicionário 2^10\n",
    "=1024. No relatório apresente as curvas de\n",
    "RC x K e de Tempo de\n",
    "Processamento x K, para K = 9, 10,\n",
    "11, 12, 13, 14, 15,\n",
    "16 bits. Indique também a\n",
    "quantidade total de índices presentes na mensagem final para cada K.\n",
    "\n",
    "**_Observações:_**\n",
    "\n",
    "•\n",
    "Os símbolos do arquivo de teste devem ser lidos no modo binário (número\n",
    "s) e não\n",
    "no modo texto (caracteres/strings).\n",
    "\n",
    "•\n",
    "O codificador deve receber como entrada um arquivo e gerar c\n",
    "omo saída o\n",
    "arquivo codificado"
   ]
  },
  {
   "cell_type": "code",
   "execution_count": null,
   "metadata": {},
   "outputs": [],
   "source": [
    "import binascii"
   ]
  },
  {
   "cell_type": "code",
   "execution_count": null,
   "metadata": {},
   "outputs": [],
   "source": [
    "corpus= 'database/corpus16MB.txt';\n",
    "teste = 'database/teste.txt';\n",
    "video = 'database/video.mp4';"
   ]
  },
  {
   "cell_type": "code",
   "execution_count": null,
   "metadata": {},
   "outputs": [],
   "source": [
    "bin_data = open(corpus, \"rb\").read()\n",
    "data_size=len(bin_data)"
   ]
  },
  {
   "cell_type": "code",
   "execution_count": null,
   "metadata": {},
   "outputs": [],
   "source": []
  },
  {
   "cell_type": "code",
   "execution_count": null,
   "metadata": {},
   "outputs": [],
   "source": [
    "#df = ' '.join(format(x, '08b') for x in bytearray(bin_data))"
   ]
  },
  {
   "cell_type": "code",
   "execution_count": null,
   "metadata": {},
   "outputs": [],
   "source": [
    "bin_data = bin_data.decode('latin1')\n"
   ]
  },
  {
   "cell_type": "code",
   "execution_count": null,
   "metadata": {},
   "outputs": [],
   "source": [
    "len(bin_data)"
   ]
  },
  {
   "cell_type": "markdown",
   "metadata": {},
   "source": [
    "## Criando o dicionário"
   ]
  },
  {
   "cell_type": "code",
   "execution_count": null,
   "metadata": {},
   "outputs": [],
   "source": [
    "K = 9 #Change this line to modify the dictionary size  \n",
    "dictionary_size_half = int((2 ** K)/2)\n",
    "dictionary_size_full = 2 ** K   \n"
   ]
  },
  {
   "cell_type": "code",
   "execution_count": null,
   "metadata": {},
   "outputs": [],
   "source": [
    "dictionary = {i.to_bytes(1, byteorder='big'): i for i in range(0,256)} #represents unicode code point of the character) \n",
    "#encode(latin-1)\n",
    "dictionary"
   ]
  },
  {
   "cell_type": "code",
   "execution_count": null,
   "metadata": {},
   "outputs": [],
   "source": [
    "b'\\xfe'.decode('latin1')"
   ]
  },
  {
   "cell_type": "code",
   "execution_count": null,
   "metadata": {},
   "outputs": [],
   "source": [
    "dict_keys = list(dictionary.keys())\n",
    "#dict_keys = dict_keys.decode('latin1')\n",
    "s=0\n",
    "aa = []\n",
    "for i in range(0, 256):\n",
    "    aa.append(''.join(dict_keys[i].decode('latin1')))\n",
    "print(aa)\n"
   ]
  },
  {
   "cell_type": "code",
   "execution_count": null,
   "metadata": {},
   "outputs": [],
   "source": [
    "k=aa.index('a')\n",
    "k"
   ]
  },
  {
   "cell_type": "code",
   "execution_count": null,
   "metadata": {},
   "outputs": [],
   "source": [
    "codificado_char=[]\n",
    "codificado_int=[]"
   ]
  },
  {
   "cell_type": "code",
   "execution_count": null,
   "metadata": {},
   "outputs": [],
   "source": [
    "data_size\n",
    "import time\n"
   ]
  },
  {
   "cell_type": "code",
   "execution_count": null,
   "metadata": {},
   "outputs": [],
   "source": [
    "j=dictionary_size_half\n",
    "i=0\n",
    "a=[]\n",
    "count=0\n",
    "y=bin_data[0]\n",
    "rs = []\n",
    "k=0\n",
    "inicio = time.time()\n",
    "\n",
    "while((i < data_size)):#Enquanto o dicionario nao estiver cheio e ainda existir texto p codificar\n",
    "    \n",
    "    aux = bin_data[i]\n",
    "    if (aux in aa): #abracadabra\n",
    "        count=i \n",
    "        k=aa.index(aux) #Salva o indice do caracter\n",
    "        x = aux\n",
    "\n",
    "        while (x in aa): #Lógica para concatenação dos caracteres e checagem no dicionario\n",
    "            count+=1\n",
    "            if(count<data_size):\n",
    "                y=x;\n",
    "                k=aa.index(aux) #Salva o indice do caracter\n",
    "                #print(x, \" - tem no dicionario \")\n",
    "                aux = bin_data[count]\n",
    "                a = aux\n",
    "                x+=a\n",
    "                #print(\"X pós concatencação:\", x)\n",
    "            else:\n",
    "                break\n",
    "        if(x not in aa):\n",
    "            #print(x,\" - não tem no dicionario\")\n",
    "            if(j<dictionary_size_full):\n",
    "                aa.append(x)\n",
    "                #print(\"adicionei ao dic: \", x)\n",
    "            j+=1 #Adicionou um indice\n",
    "        else:\n",
    "            y=x\n",
    "           \n",
    "        #print(y ,\"- foi codificado\")\n",
    "        k=aa.index(y)\n",
    "        #print('int:', k)\n",
    "        codificado_int.append(k)\n",
    "        codificado_char.append(y)\n",
    "                \n",
    "        i+=len(y) #Avança um caracter\n",
    "        \n",
    "    else: \n",
    "        #print(\"não tinha no 255 dic:\", aux)\n",
    "        if(j<dictionary_size_full):\n",
    "            aa.append(aux)\n",
    "            #print(\"adicionei\")\n",
    "        j+=1 #Adicionou um indice\n",
    "        i+=1 #Avança um caracter\n",
    "        \n",
    "    #print(\"codificado em int:\", codificado_int)\n",
    "    #print(\"codificado em char:\", codificado_char, \"\\n\")\n",
    "    #if(i>=5500000):\n",
    "    #    print(i)\n",
    "\n",
    "fim = time.time()\n",
    "#15637070\n",
    "# 6636219\n"
   ]
  },
  {
   "cell_type": "code",
   "execution_count": null,
   "metadata": {},
   "outputs": [],
   "source": [
    "print(\"Demorou:\", ((fim-inicio)/60), \"minutos\")"
   ]
  },
  {
   "cell_type": "code",
   "execution_count": null,
   "metadata": {},
   "outputs": [],
   "source": [
    "codificado_int[:10]"
   ]
  },
  {
   "cell_type": "code",
   "execution_count": null,
   "metadata": {},
   "outputs": [],
   "source": [
    "codif = len(codificado_int)   "
   ]
  },
  {
   "cell_type": "code",
   "execution_count": null,
   "metadata": {},
   "outputs": [],
   "source": [
    "#Uncoment this block to write the file again\n",
    "with open('arquivo_comprimido_k9.bin', 'w') as arquivo:\n",
    "    for i in range (0, codif):\n",
    "        arquivo.write(\"{0:09b}\".format(codificado_int[i]))\n",
    "arquivo.close()"
   ]
  },
  {
   "cell_type": "code",
   "execution_count": null,
   "metadata": {},
   "outputs": [],
   "source": [
    "#with open('arquivo_comprimido_k9.bin') as arq_read:\n",
    "#    print(arq_read.read())"
   ]
  },
  {
   "cell_type": "code",
   "execution_count": null,
   "metadata": {},
   "outputs": [],
   "source": []
  }
 ],
 "metadata": {
  "kernelspec": {
   "display_name": "Python 3",
   "language": "python",
   "name": "python3"
  },
  "language_info": {
   "codemirror_mode": {
    "name": "ipython",
    "version": 3
   },
   "file_extension": ".py",
   "mimetype": "text/x-python",
   "name": "python",
   "nbconvert_exporter": "python",
   "pygments_lexer": "ipython3",
   "version": "3.7.4"
  }
 },
 "nbformat": 4,
 "nbformat_minor": 4
}
