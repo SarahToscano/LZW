{
 "cells": [
  {
   "cell_type": "code",
   "execution_count": null,
   "metadata": {},
   "outputs": [],
   "source": [
    "#Esse daqui é o X: (comprimento original * 8) / (comprimento comprimido * K)\n",
    "if (K==9):\n",
    "    mood = 'w'\n",
    "else:\n",
    "    mood = 'a'\n",
    "    \n",
    "def writeInfoPlot():\n",
    "    f = open(f'./{file_selected[11:-4]}_info.txt', f'{mood}')\n",
    "    f.write(str(compr_orig / (compr_comp/K)))\n",
    "    f.close()\n",
    "    \n",
    "writeInfoPlot()"
   ]
  }
 ],
 "metadata": {
  "kernelspec": {
   "display_name": "Python 3",
   "language": "python",
   "name": "python3"
  },
  "language_info": {
   "codemirror_mode": {
    "name": "ipython",
    "version": 3
   },
   "file_extension": ".py",
   "mimetype": "text/x-python",
   "name": "python",
   "nbconvert_exporter": "python",
   "pygments_lexer": "ipython3",
   "version": "3.7.4"
  }
 },
 "nbformat": 4,
 "nbformat_minor": 4
}
