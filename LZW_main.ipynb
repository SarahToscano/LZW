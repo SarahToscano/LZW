{
 "cells": [
  {
   "cell_type": "markdown",
   "metadata": {},
   "source": [
    "# Disciplina: Introdução à Teoria da Informação \n",
    "\n",
    "## Projeto (Parte 1): Compressor e Descompressor de dados com LZW\n",
    "\n",
    "### Dupla: Gabriel Patrício (20170170889) e Sarah Carvalho (20170022975)\n"
   ]
  },
  {
   "cell_type": "markdown",
   "metadata": {},
   "source": [
    "**Descrição do Projeto**: \n",
    "\n",
    "Implemente um compressor e descompressor com o algoritmo LZW. Considere que as\n",
    "mensagens são geradas por fontes com alfabeto A = {0, 1, ..., 255}. Teste o\n",
    "compressor/descompressor com um corpus de texto em português de 16MB e com um\n",
    "arquivo binário de vídeo.\n",
    "\n",
    "O índice do dicionário deve ser testado com diferentes tamanhos K bits\n",
    "(parâmetro). Exemplo: K=9bits tamanho do dicionário: 2^9=512, K=\n",
    "10bits tamanho do\n",
    "dicionário 2^10\n",
    "=1024. No relatório apresente as curvas de\n",
    "RC x K e de Tempo de\n",
    "Processamento x K, para K = 9, 10,\n",
    "11, 12, 13, 14, 15,\n",
    "16 bits. Indique também a\n",
    "quantidade total de índices presentes na mensagem final para cada K.\n",
    "\n",
    "**_Observações:_**\n",
    "\n",
    "•\n",
    "Os símbolos do arquivo de teste devem ser lidos no modo binário (número\n",
    "s) e não\n",
    "no modo texto (caracteres/strings).\n",
    "\n",
    "•\n",
    "O codificador deve receber como entrada um arquivo e gerar c\n",
    "omo saída o\n",
    "arquivo codificado"
   ]
  },
  {
   "cell_type": "code",
   "execution_count": 1,
   "metadata": {},
   "outputs": [],
   "source": [
    "import binascii"
   ]
  },
  {
   "cell_type": "code",
   "execution_count": 2,
   "metadata": {},
   "outputs": [],
   "source": [
    "corpus= 'database/corpus16MB.txt';\n",
    "teste = 'database/teste.txt';\n",
    "video = 'database/video.mp4';"
   ]
  },
  {
   "cell_type": "code",
   "execution_count": 3,
   "metadata": {},
   "outputs": [],
   "source": [
    "bin_data = open(teste, \"rb\").read()\n",
    "data_size=len(bin_data)"
   ]
  },
  {
   "cell_type": "code",
   "execution_count": 4,
   "metadata": {},
   "outputs": [],
   "source": [
    "# df = ' '.join(format(x, '08b') for x in bytearray(bin_data))"
   ]
  },
  {
   "cell_type": "code",
   "execution_count": 5,
   "metadata": {},
   "outputs": [
    {
     "data": {
      "text/plain": [
       "11"
      ]
     },
     "execution_count": 5,
     "metadata": {},
     "output_type": "execute_result"
    }
   ],
   "source": [
    "len(bin_data)"
   ]
  },
  {
   "cell_type": "code",
   "execution_count": 6,
   "metadata": {},
   "outputs": [],
   "source": [
    "# size = len(df)\n",
    "# size"
   ]
  },
  {
   "cell_type": "markdown",
   "metadata": {},
   "source": [
    "## Criando o dicionário"
   ]
  },
  {
   "cell_type": "code",
   "execution_count": 7,
   "metadata": {},
   "outputs": [],
   "source": [
    "K = 9 #Change this line to modify the dictionary size  \n",
    "dictionary_size_half = int((2 ** K)/2)\n",
    "dictionary_size_full = 2 ** K   "
   ]
  },
  {
   "cell_type": "code",
   "execution_count": 8,
   "metadata": {},
   "outputs": [],
   "source": [
    "dictionary = {chr(i): i for i in range(0,dictionary_size_half)} #represents unicode code point of the character) \n"
   ]
  },
  {
   "cell_type": "code",
   "execution_count": 9,
   "metadata": {},
   "outputs": [],
   "source": [
    "codificado_char=[]\n",
    "codificado_int=[]"
   ]
  },
  {
   "cell_type": "code",
   "execution_count": 10,
   "metadata": {},
   "outputs": [
    {
     "data": {
      "text/plain": [
       "11"
      ]
     },
     "execution_count": 10,
     "metadata": {},
     "output_type": "execute_result"
    }
   ],
   "source": [
    "data_size"
   ]
  },
  {
   "cell_type": "code",
   "execution_count": 11,
   "metadata": {},
   "outputs": [
    {
     "name": "stdout",
     "output_type": "stream",
     "text": [
      "análise de: a 97\n",
      "i =  0\n",
      "a  - tem no dicionario \n",
      "ab  - não tem no dicionario\n",
      "adicionei ao dic:  ab\n",
      "a - foi codificado\n",
      "codificado em char: ['a']\n",
      "codificado em int: [97] \n",
      "\n",
      "análise de: b 98\n",
      "i =  1\n",
      "b  - tem no dicionario \n",
      "br  - não tem no dicionario\n",
      "adicionei ao dic:  br\n",
      "b - foi codificado\n",
      "codificado em char: ['a', 'b']\n",
      "codificado em int: [97, 98] \n",
      "\n",
      "análise de: r 114\n",
      "i =  2\n",
      "r  - tem no dicionario \n",
      "ra  - não tem no dicionario\n",
      "adicionei ao dic:  ra\n",
      "r - foi codificado\n",
      "codificado em char: ['a', 'b', 'r']\n",
      "codificado em int: [97, 98, 114] \n",
      "\n",
      "análise de: a 97\n",
      "i =  3\n",
      "a  - tem no dicionario \n",
      "ac  - não tem no dicionario\n",
      "adicionei ao dic:  ac\n",
      "a - foi codificado\n",
      "codificado em char: ['a', 'b', 'r', 'a']\n",
      "codificado em int: [97, 98, 114, 97] \n",
      "\n",
      "análise de: c 99\n",
      "i =  4\n",
      "c  - tem no dicionario \n",
      "ca  - não tem no dicionario\n",
      "adicionei ao dic:  ca\n",
      "c - foi codificado\n",
      "codificado em char: ['a', 'b', 'r', 'a', 'c']\n",
      "codificado em int: [97, 98, 114, 97, 99] \n",
      "\n",
      "análise de: a 97\n",
      "i =  5\n",
      "a  - tem no dicionario \n",
      "ad  - não tem no dicionario\n",
      "adicionei ao dic:  ad\n",
      "a - foi codificado\n",
      "codificado em char: ['a', 'b', 'r', 'a', 'c', 'a']\n",
      "codificado em int: [97, 98, 114, 97, 99, 97] \n",
      "\n",
      "análise de: d 100\n",
      "i =  6\n",
      "d  - tem no dicionario \n",
      "da  - não tem no dicionario\n",
      "adicionei ao dic:  da\n",
      "d - foi codificado\n",
      "codificado em char: ['a', 'b', 'r', 'a', 'c', 'a', 'd']\n",
      "codificado em int: [97, 98, 114, 97, 99, 97, 100] \n",
      "\n",
      "análise de: a 97\n",
      "i =  7\n",
      "a  - tem no dicionario \n",
      "ab  - tem no dicionario \n",
      "abr  - não tem no dicionario\n",
      "adicionei ao dic:  abr\n",
      "ab - foi codificado\n",
      "codificado em char: ['a', 'b', 'r', 'a', 'c', 'a', 'd', 'ab']\n",
      "codificado em int: [97, 98, 114, 97, 99, 97, 100, 256] \n",
      "\n",
      "análise de: r 114\n",
      "i =  9\n",
      "r  - tem no dicionario \n",
      "last\n",
      "ra - foi codificado\n",
      "codificado em char: ['a', 'b', 'r', 'a', 'c', 'a', 'd', 'ab', 'ra']\n",
      "codificado em int: [97, 98, 114, 97, 99, 97, 100, 256, 258] \n",
      "\n"
     ]
    }
   ],
   "source": [
    "j=dictionary_size_half\n",
    "i=0\n",
    "a=[]\n",
    "count=0\n",
    "y=bin_data[0]\n",
    "rs = []\n",
    "k=0\n",
    "while((j!=dictionary_size_full) and (i < data_size)):#Enquanto o dicionario nao estiver cheio e ainda existir texto p codificar\n",
    "    \n",
    "    aux = binascii.unhexlify('%x' % bin_data[i])\n",
    "    aux = \"\".join(map(chr, aux))\n",
    "    \n",
    "    if (aux in dictionary.keys()): #abracadabra\n",
    "        count=i \n",
    "        k=bin_data[count]\n",
    "        aux = binascii.unhexlify('%x' %  bin_data[count])\n",
    "        x = \"\".join(map(chr, aux))\n",
    "\n",
    "        while (x in dictionary.keys()): #Lógica para concatenação dos caracteres e checagem no dicionario\n",
    "            count+=1\n",
    "            if(count<data_size):\n",
    "                y=x;\n",
    "                k=dictionary.get(x) #indice do dicionario equivalente ao char\n",
    "                print(x, \" - tem no dicionario \")\n",
    "                aux = binascii.unhexlify('%x' %  bin_data[count])\n",
    "                a = \"\".join(map(chr, aux))\n",
    "                x+=a\n",
    "                #print(\"X pós concatencação:\", x)\n",
    "            else:\n",
    "                break\n",
    "        if(x not in dictionary.keys()):\n",
    "            print(x,\" - não tem no dicionario\")\n",
    "            dictionary[x] = j\n",
    "            print(\"adicionei ao dic: \", x)\n",
    "            j+=1 #Adicionou um indice\n",
    "            \n",
    "        else:\n",
    "            k=dictionary.get(x)\n",
    "            y=x;\n",
    "           \n",
    "        print(y ,\"- foi codificado\")\n",
    "        codificado_char.append(y)\n",
    "        codificado_int.append(k)\n",
    "                \n",
    "        i+=len(y) #Avança um caracter, 2 se for codificado 'ab', 3 se for 'abc'....\n",
    "        \n",
    "    else: \n",
    "        print(\"não tinha no 255 dic:\", aux)\n",
    "        dictionary[aux] = j\n",
    "        print(\"adicionei\")\n",
    "        j+=1 #Adicionou um indice\n",
    "        i+=1 #Avança um caracter\n",
    "        \n",
    "    print(\"codificado em char:\", codificado_char)\n",
    "    print(\"codificado em int:\", codificado_int, \"\\n\")\n",
    "\n"
   ]
  },
  {
   "cell_type": "code",
   "execution_count": 12,
   "metadata": {},
   "outputs": [
    {
     "data": {
      "text/plain": [
       "[97, 98, 114, 97, 99, 97, 100, 256, 258]"
      ]
     },
     "execution_count": 12,
     "metadata": {},
     "output_type": "execute_result"
    }
   ],
   "source": [
    "codificado_int"
   ]
  },
  {
   "cell_type": "code",
   "execution_count": 13,
   "metadata": {},
   "outputs": [
    {
     "data": {
      "text/plain": [
       "['a', 'b', 'r', 'a', 'c', 'a', 'd', 'ab', 'ra']"
      ]
     },
     "execution_count": 13,
     "metadata": {},
     "output_type": "execute_result"
    }
   ],
   "source": [
    "codificado_char"
   ]
  },
  {
   "cell_type": "code",
   "execution_count": 14,
   "metadata": {},
   "outputs": [
    {
     "data": {
      "text/plain": [
       "2"
      ]
     },
     "execution_count": 14,
     "metadata": {},
     "output_type": "execute_result"
    }
   ],
   "source": [
    "a ='ab'\n",
    "len(a)"
   ]
  },
  {
   "cell_type": "code",
   "execution_count": 15,
   "metadata": {},
   "outputs": [
    {
     "name": "stdout",
     "output_type": "stream",
     "text": [
      "97\n"
     ]
    },
    {
     "data": {
      "text/plain": [
       "str"
      ]
     },
     "execution_count": 15,
     "metadata": {},
     "output_type": "execute_result"
    }
   ],
   "source": [
    "print(bin_data[5])\n",
    "aux = binascii.unhexlify('%x' %  bin_data[5])\n",
    "a = \"\".join(map(chr, aux))\n",
    "type(a)"
   ]
  },
  {
   "cell_type": "code",
   "execution_count": 16,
   "metadata": {},
   "outputs": [
    {
     "ename": "NameError",
     "evalue": "name 'dict_list' is not defined",
     "output_type": "error",
     "traceback": [
      "\u001b[1;31m---------------------------------------------------------------------------\u001b[0m",
      "\u001b[1;31mNameError\u001b[0m                                 Traceback (most recent call last)",
      "\u001b[1;32m<ipython-input-16-d37476cf3bf9>\u001b[0m in \u001b[0;36m<module>\u001b[1;34m\u001b[0m\n\u001b[1;32m----> 1\u001b[1;33m \u001b[0mlen\u001b[0m\u001b[1;33m(\u001b[0m\u001b[0mdict_list\u001b[0m\u001b[1;33m)\u001b[0m\u001b[1;33m\u001b[0m\u001b[1;33m\u001b[0m\u001b[0m\n\u001b[0m",
      "\u001b[1;31mNameError\u001b[0m: name 'dict_list' is not defined"
     ]
    }
   ],
   "source": [
    "len(dict_list)"
   ]
  },
  {
   "cell_type": "code",
   "execution_count": null,
   "metadata": {},
   "outputs": [],
   "source": [
    "codificado"
   ]
  },
  {
   "cell_type": "code",
   "execution_count": null,
   "metadata": {},
   "outputs": [],
   "source": [
    "#dictionary = {chr(df[i]): i for i in range(dictionary_size_half)} #represents unicode code point of the character)    \n",
    "j=0\n",
    "i=0\n",
    "a=[]\n",
    "flag=0\n",
    "\n",
    "while(j!=dictionary_size_half):#represents unicode code point of the character)  \n",
    "    if(i==0):\n",
    "        a.append(bin_data[i])\n",
    "        i+=1 #Avança um caracter\n",
    "        j+=1 #Adicionou um indice\n",
    "    else:\n",
    "        if (bin_data[i] in a):\n",
    "            i+=1 #Avança um caracter\n",
    "        else: \n",
    "            a.append(bin_data[i])\n",
    "            j+=1 # Adicionou um indice\n",
    "            \n",
    "    if(i==len(bin_data)):\n",
    "        break #O texto tem menos de 250 caracteres unicos\n"
   ]
  },
  {
   "cell_type": "code",
   "execution_count": null,
   "metadata": {},
   "outputs": [],
   "source": [
    "len(dictionary)"
   ]
  },
  {
   "cell_type": "code",
   "execution_count": null,
   "metadata": {},
   "outputs": [],
   "source": [
    "for i in range (dictionary_size_half+1, dictionary_size_full):\n",
    "    dictionary['string'] = i\n"
   ]
  },
  {
   "cell_type": "code",
   "execution_count": null,
   "metadata": {},
   "outputs": [],
   "source": [
    "dictionary"
   ]
  },
  {
   "cell_type": "code",
   "execution_count": null,
   "metadata": {},
   "outputs": [],
   "source": [
    "len(dictionary)"
   ]
  },
  {
   "cell_type": "code",
   "execution_count": null,
   "metadata": {},
   "outputs": [],
   "source": [
    "dictionary"
   ]
  },
  {
   "cell_type": "code",
   "execution_count": null,
   "metadata": {},
   "outputs": [],
   "source": [
    "#a = map(bin,bytearray(dictionary))\n",
    "dictionary = ' '.join(format(ord(x), '08b') for x in dictionary)\n",
    "dictionary"
   ]
  },
  {
   "cell_type": "code",
   "execution_count": null,
   "metadata": {},
   "outputs": [],
   "source": [
    "s = \"\" # empty string\n",
    "compr_data = [] #compressed data\n",
    "count=0\n",
    "i=0;"
   ]
  },
  {
   "cell_type": "raw",
   "metadata": {},
   "source": [
    "#while ( could read a new byte from DF into c )\n",
    "b=[]\n",
    "a=''\n",
    "for i in df:     \n",
    "    if i!=\" \":\n",
    "        a+=i\n",
    "    if len(a)==8:\n",
    "        b.append(a)\n",
    "        a=''\n",
    "    \n",
    "\n",
    "\n",
    "# '01000001 00100000 01010010 01010101 01000001 00001101 00001010 00001101 00001010 01000101 \n",
    "# 01110101 00100000 01100001 01101101 01101111 00100000 011000'\n",
    "\n",
    "    \n",
    "   "
   ]
  },
  {
   "cell_type": "code",
   "execution_count": null,
   "metadata": {},
   "outputs": [],
   "source": [
    "print(b[:15]) "
   ]
  },
  {
   "cell_type": "raw",
   "metadata": {},
   "source": [
    "for i in b:\n",
    "    if i in dictionary:\n",
    "        s = i"
   ]
  },
  {
   "cell_type": "raw",
   "metadata": {},
   "source": [
    "out = input_file.split(\".\")[0]\n",
    "output_file = open(out + \".lzw\", \"wb\")\n",
    "for data in compressed_data:\n",
    "    output_file.write(pack('>H',int(data)))"
   ]
  },
  {
   "cell_type": "raw",
   "metadata": {},
   "source": [
    "import binascii\n",
    "import copy\n",
    "\n",
    "K = 9\n",
    "\n",
    "def fileToBinaryText(path):\n",
    "    file = open(path).read()\n",
    "    return ' '.join(format(ord(i), 'd') for i in file).split() #alterar 0:08b\n",
    "\n",
    "codificacao = fileToBinaryText(\"corpus16MB.txt\")\n",
    "# print(codificacao)\n",
    "\n",
    "next = pow(2,8) #256\n",
    "\n",
    "dicionario = {}\n",
    "for i in range(0,256):\n",
    "    dicionario[str(i)] = [str(i)] #alterar \"{0:08b}\".format(i)\n",
    "\n",
    "# print(dicionario[\"4\"])   #00000100 = 4 \n",
    "fim = ''\n",
    "indice = 0\n",
    "\n",
    "while indice < len(codificacao):\n",
    "    letra = codificacao[indice]\n",
    "#    print('Byte da vez: ' + letra)\n",
    "    bigKey = letra #chave\n",
    "    bigFreq = 1 #frequencia de coincidencia \n",
    "    for key,valor in dicionario.items(): #eh pra achar coincidencias dentro do dicionario\n",
    "         if letra == valor[0]:\n",
    "        #    print('\\tencontrou correspondente para em: %s -> [%s]' % (key,','.join(map(str,valor))))\n",
    "            freq = 1\n",
    "            for l in range(1,len(valor)): # l = numero entra 1 e o tamanho do valor atual no dicionario\n",
    "                if indice + l != len(codificacao) and codificacao[indice+l] == valor[l]: \n",
    "                    #se eu n to na ultima letra da mensagem e a proxima letra da mensagem = proxima letra do valor no dicionario\n",
    "                    freq += 1   # ma = ma\n",
    "                else:\n",
    "        #            print('\\t\\tacabou a coincidencia em %d' % freq)\n",
    "                    break\n",
    "        #    print('\\tfreq = %d' % freq)\n",
    "            if freq > bigFreq:\n",
    "                bigFreq = freq\n",
    "                bigKey = key\n",
    "    fim = fim + bigKey + ' '  #LEMBRAR DE TIRAR O ' ' DEPOIS!!!!!!!!!!!!!!!!!!!!!!!!!!!!!!!!!!!!!!!!!!!!!!!!!!!!!!!!!!!!!!!!!!!!!!!!!!!!!!!!!!!!!!!!!!!!!\n",
    "    if (indice + len(dicionario[bigKey])) != len(codificacao) and len(dicionario) < pow(2,K): #se a mensagem nao acabou e dicionario nao ta cheio\n",
    "        #adicionar novos elementos no dicionario\n",
    "        new = str(next)     #alterar \"{0:08b}\".format(i)\n",
    "        dicionario[new] = copy.deepcopy(dicionario[bigKey]) #M\n",
    "        dicionario[new].append(codificacao[indice + len(dicionario[bigKey])])  #append A\n",
    "    #    print('novo indice no dicionario: %s -> [%s]' % (new, ','.join(map(str,dicionario[new]))))\n",
    "        next += 1\n",
    "    indice += len(dicionario[bigKey]) \n",
    "\n",
    "#ISSO AQUI EH SO PRINT\n",
    "print('dicionario apos 255:')\n",
    "listadict = []\n",
    "for i in dicionario.keys():\n",
    "    if int(i) >= 256:\n",
    "        listadict.append(i)\n",
    "listadict.sort()\n",
    "for i in listadict:\n",
    "    print('%s -> %s' %(i, ','.join(map(str,dicionario[i]))))\n",
    "print('mensagem final: %s' % fim)  "
   ]
  },
  {
   "cell_type": "code",
   "execution_count": null,
   "metadata": {},
   "outputs": [],
   "source": [
    "def writeFile(path, texto):\n",
    "    file = open(path, \"wb\")\n",
    "    file.write(texto)\n",
    "\n",
    "def binaryTextTofile(text):\n",
    "    textArray = bytearray(text, \"utf8\")\n",
    "    byteList = []\n",
    "    for byte in textArray:\n",
    "        byteList.append(bin(byte))\n",
    "    return byteList\n",
    "\n",
    "arr = [97]                 #ISSO AQUI VAI SER MASSA NO FUTURO KKKKK IMAGINA TRUNKS CHEGANDO COM UM ARRAY DE 98 CASAS PRA MATAR O CELL \n",
    "format = bytearray(arr)    \n",
    "writeFile(\"outoputo.txt\", format)\n",
    "\n",
    "# decodificacao = binaryTextTofile(codificacao)\n",
    "# print(decodificacao)"
   ]
  },
  {
   "cell_type": "code",
   "execution_count": null,
   "metadata": {},
   "outputs": [],
   "source": [
    "abracadabra"
   ]
  }
 ],
 "metadata": {
  "kernelspec": {
   "display_name": "Python 3",
   "language": "python",
   "name": "python3"
  },
  "language_info": {
   "codemirror_mode": {
    "name": "ipython",
    "version": 3
   },
   "file_extension": ".py",
   "mimetype": "text/x-python",
   "name": "python",
   "nbconvert_exporter": "python",
   "pygments_lexer": "ipython3",
   "version": "3.7.4"
  }
 },
 "nbformat": 4,
 "nbformat_minor": 4
}
