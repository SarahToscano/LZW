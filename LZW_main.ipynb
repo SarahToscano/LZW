{
 "cells": [
  {
   "cell_type": "markdown",
   "metadata": {},
   "source": [
    "# Disciplina: Introdução à Teoria da Informação \n",
    "\n",
    "## Projeto (Parte 1): Compressor e Descompressor de dados com LZW\n",
    "\n",
    "### Dupla: Gabriel Patrício (20170170889) e Sarah Carvalho (20170022975)\n"
   ]
  },
  {
   "cell_type": "markdown",
   "metadata": {},
   "source": [
    "**Descrição do Projeto**: \n",
    "\n",
    "Implemente um compressor e descompressor com o algoritmo LZW. Considere que as\n",
    "mensagens são geradas por fontes com alfabeto A = {0, 1, ..., 255}. Teste o\n",
    "compressor/descompressor com um corpus de texto em português de 16MB e com um\n",
    "arquivo binário de vídeo.\n",
    "\n",
    "O índice do dicionário deve ser testado com diferentes tamanhos K bits\n",
    "(parâmetro). Exemplo: K=9bits tamanho do dicionário: 2^9=512, K=\n",
    "10bits tamanho do\n",
    "dicionário 2^10\n",
    "=1024. No relatório apresente as curvas de\n",
    "RC x K e de Tempo de\n",
    "Processamento x K, para K = 9, 10,\n",
    "11, 12, 13, 14, 15,\n",
    "16 bits. Indique também a\n",
    "quantidade total de índices presentes na mensagem final para cada K.\n",
    "\n",
    "**_Observações:_**\n",
    "\n",
    "•\n",
    "Os símbolos do arquivo de teste devem ser lidos no modo binário (número\n",
    "s) e não\n",
    "no modo texto (caracteres/strings).\n",
    "\n",
    "•\n",
    "O codificador deve receber como entrada um arquivo e gerar c\n",
    "omo saída o\n",
    "arquivo codificado"
   ]
  },
  {
   "cell_type": "code",
   "execution_count": 1,
   "metadata": {},
   "outputs": [],
   "source": [
    "corpus= 'database/corpus16MB.txt';\n",
    "teste = 'database/teste.txt';\n",
    "video = 'database/video.mp4';"
   ]
  },
  {
   "cell_type": "code",
   "execution_count": 2,
   "metadata": {},
   "outputs": [],
   "source": [
    "bin_data = open(teste, \"rb\").read()\n",
    "data_size=len(bin_data)"
   ]
  },
  {
   "cell_type": "code",
   "execution_count": 3,
   "metadata": {},
   "outputs": [],
   "source": [
    "df = ' '.join(format(x, '08b') for x in bytearray(bin_data))"
   ]
  },
  {
   "cell_type": "code",
   "execution_count": 4,
   "metadata": {},
   "outputs": [
    {
     "data": {
      "text/plain": [
       "'01100001 01100010 01110010 01100001 01100011 01100001 01100100 01100001 01100010'"
      ]
     },
     "execution_count": 4,
     "metadata": {},
     "output_type": "execute_result"
    }
   ],
   "source": [
    "df[:80]"
   ]
  },
  {
   "cell_type": "code",
   "execution_count": 5,
   "metadata": {},
   "outputs": [
    {
     "data": {
      "text/plain": [
       "11"
      ]
     },
     "execution_count": 5,
     "metadata": {},
     "output_type": "execute_result"
    }
   ],
   "source": [
    "len(bin_data)"
   ]
  },
  {
   "cell_type": "code",
   "execution_count": 6,
   "metadata": {},
   "outputs": [
    {
     "data": {
      "text/plain": [
       "'0'"
      ]
     },
     "execution_count": 6,
     "metadata": {},
     "output_type": "execute_result"
    }
   ],
   "source": [
    "df[4]"
   ]
  },
  {
   "cell_type": "code",
   "execution_count": 7,
   "metadata": {},
   "outputs": [
    {
     "data": {
      "text/plain": [
       "98"
      ]
     },
     "execution_count": 7,
     "metadata": {},
     "output_type": "execute_result"
    }
   ],
   "source": [
    "size = len(df)\n",
    "size"
   ]
  },
  {
   "cell_type": "markdown",
   "metadata": {},
   "source": [
    "## Criando o dicionário"
   ]
  },
  {
   "cell_type": "code",
   "execution_count": 8,
   "metadata": {},
   "outputs": [],
   "source": [
    "K = 9 #Change this line to modify the dictionary size  \n",
    "dictionary_size_half = int((2 ** K)/2)\n",
    "dictionary_size_full = 2 ** K   "
   ]
  },
  {
   "cell_type": "code",
   "execution_count": 9,
   "metadata": {},
   "outputs": [
    {
     "name": "stdout",
     "output_type": "stream",
     "text": [
      "256\n"
     ]
    }
   ],
   "source": [
    "print(dictionary_size_half)"
   ]
  },
  {
   "cell_type": "code",
   "execution_count": 10,
   "metadata": {},
   "outputs": [],
   "source": [
    "dictionary = {chr(i): i for i in range(0,dictionary_size_half)} #represents unicode code point of the character)    "
   ]
  },
  {
   "cell_type": "code",
   "execution_count": 11,
   "metadata": {},
   "outputs": [
    {
     "data": {
      "text/plain": [
       "[0,\n",
       " 1,\n",
       " 2,\n",
       " 3,\n",
       " 4,\n",
       " 5,\n",
       " 6,\n",
       " 7,\n",
       " 8,\n",
       " 9,\n",
       " 10,\n",
       " 11,\n",
       " 12,\n",
       " 13,\n",
       " 14,\n",
       " 15,\n",
       " 16,\n",
       " 17,\n",
       " 18,\n",
       " 19,\n",
       " 20,\n",
       " 21,\n",
       " 22,\n",
       " 23,\n",
       " 24,\n",
       " 25,\n",
       " 26,\n",
       " 27,\n",
       " 28,\n",
       " 29,\n",
       " 30,\n",
       " 31,\n",
       " 32,\n",
       " 33,\n",
       " 34,\n",
       " 35,\n",
       " 36,\n",
       " 37,\n",
       " 38,\n",
       " 39,\n",
       " 40,\n",
       " 41,\n",
       " 42,\n",
       " 43,\n",
       " 44,\n",
       " 45,\n",
       " 46,\n",
       " 47,\n",
       " 48,\n",
       " 49,\n",
       " 50,\n",
       " 51,\n",
       " 52,\n",
       " 53,\n",
       " 54,\n",
       " 55,\n",
       " 56,\n",
       " 57,\n",
       " 58,\n",
       " 59,\n",
       " 60,\n",
       " 61,\n",
       " 62,\n",
       " 63,\n",
       " 64,\n",
       " 65,\n",
       " 66,\n",
       " 67,\n",
       " 68,\n",
       " 69,\n",
       " 70,\n",
       " 71,\n",
       " 72,\n",
       " 73,\n",
       " 74,\n",
       " 75,\n",
       " 76,\n",
       " 77,\n",
       " 78,\n",
       " 79,\n",
       " 80,\n",
       " 81,\n",
       " 82,\n",
       " 83,\n",
       " 84,\n",
       " 85,\n",
       " 86,\n",
       " 87,\n",
       " 88,\n",
       " 89,\n",
       " 90,\n",
       " 91,\n",
       " 92,\n",
       " 93,\n",
       " 94,\n",
       " 95,\n",
       " 96,\n",
       " 97,\n",
       " 98,\n",
       " 99,\n",
       " 100,\n",
       " 101,\n",
       " 102,\n",
       " 103,\n",
       " 104,\n",
       " 105,\n",
       " 106,\n",
       " 107,\n",
       " 108,\n",
       " 109,\n",
       " 110,\n",
       " 111,\n",
       " 112,\n",
       " 113,\n",
       " 114,\n",
       " 115,\n",
       " 116,\n",
       " 117,\n",
       " 118,\n",
       " 119,\n",
       " 120,\n",
       " 121,\n",
       " 122,\n",
       " 123,\n",
       " 124,\n",
       " 125,\n",
       " 126,\n",
       " 127,\n",
       " 128,\n",
       " 129,\n",
       " 130,\n",
       " 131,\n",
       " 132,\n",
       " 133,\n",
       " 134,\n",
       " 135,\n",
       " 136,\n",
       " 137,\n",
       " 138,\n",
       " 139,\n",
       " 140,\n",
       " 141,\n",
       " 142,\n",
       " 143,\n",
       " 144,\n",
       " 145,\n",
       " 146,\n",
       " 147,\n",
       " 148,\n",
       " 149,\n",
       " 150,\n",
       " 151,\n",
       " 152,\n",
       " 153,\n",
       " 154,\n",
       " 155,\n",
       " 156,\n",
       " 157,\n",
       " 158,\n",
       " 159,\n",
       " 160,\n",
       " 161,\n",
       " 162,\n",
       " 163,\n",
       " 164,\n",
       " 165,\n",
       " 166,\n",
       " 167,\n",
       " 168,\n",
       " 169,\n",
       " 170,\n",
       " 171,\n",
       " 172,\n",
       " 173,\n",
       " 174,\n",
       " 175,\n",
       " 176,\n",
       " 177,\n",
       " 178,\n",
       " 179,\n",
       " 180,\n",
       " 181,\n",
       " 182,\n",
       " 183,\n",
       " 184,\n",
       " 185,\n",
       " 186,\n",
       " 187,\n",
       " 188,\n",
       " 189,\n",
       " 190,\n",
       " 191,\n",
       " 192,\n",
       " 193,\n",
       " 194,\n",
       " 195,\n",
       " 196,\n",
       " 197,\n",
       " 198,\n",
       " 199,\n",
       " 200,\n",
       " 201,\n",
       " 202,\n",
       " 203,\n",
       " 204,\n",
       " 205,\n",
       " 206,\n",
       " 207,\n",
       " 208,\n",
       " 209,\n",
       " 210,\n",
       " 211,\n",
       " 212,\n",
       " 213,\n",
       " 214,\n",
       " 215,\n",
       " 216,\n",
       " 217,\n",
       " 218,\n",
       " 219,\n",
       " 220,\n",
       " 221,\n",
       " 222,\n",
       " 223,\n",
       " 224,\n",
       " 225,\n",
       " 226,\n",
       " 227,\n",
       " 228,\n",
       " 229,\n",
       " 230,\n",
       " 231,\n",
       " 232,\n",
       " 233,\n",
       " 234,\n",
       " 235,\n",
       " 236,\n",
       " 237,\n",
       " 238,\n",
       " 239,\n",
       " 240,\n",
       " 241,\n",
       " 242,\n",
       " 243,\n",
       " 244,\n",
       " 245,\n",
       " 246,\n",
       " 247,\n",
       " 248,\n",
       " 249,\n",
       " 250,\n",
       " 251,\n",
       " 252,\n",
       " 253,\n",
       " 254,\n",
       " 255]"
      ]
     },
     "execution_count": 11,
     "metadata": {},
     "output_type": "execute_result"
    }
   ],
   "source": [
    "dictionary\n",
    "dict_list=[]\n",
    "dict_list = list(dictionary.values())\n",
    "dict_list"
   ]
  },
  {
   "cell_type": "code",
   "execution_count": 12,
   "metadata": {},
   "outputs": [],
   "source": [
    "codificado=[]"
   ]
  },
  {
   "cell_type": "code",
   "execution_count": 13,
   "metadata": {},
   "outputs": [
    {
     "data": {
      "text/plain": [
       "11"
      ]
     },
     "execution_count": 13,
     "metadata": {},
     "output_type": "execute_result"
    }
   ],
   "source": [
    "data_size"
   ]
  },
  {
   "cell_type": "code",
   "execution_count": 15,
   "metadata": {},
   "outputs": [
    {
     "name": "stdout",
     "output_type": "stream",
     "text": [
      "entrou no dic + 97\n",
      "aa\n",
      "entrou no dic + 98\n",
      "aa\n",
      "entrou no dic + 114\n",
      "entrou no dic + 9799\n",
      "aa\n",
      "entrou no dic + 99\n",
      "entrou no dic + 97100\n",
      "aa\n",
      "entrou no dic + 100\n",
      "entrou no dic + 9798\n",
      "entrou no dic + 98114\n",
      "entrou no dic + 11497\n"
     ]
    }
   ],
   "source": [
    "j=dictionary_size_half+1\n",
    "i=0\n",
    "a=[]\n",
    "count=0\n",
    "\n",
    "while((j!=dictionary_size_full) and (i < data_size)):#Roda até o dicionario ficar cheio e o texto ser lido por intei\n",
    "    \n",
    "    if (bin_data[i] in dict_list): #abracadabra\n",
    "        count=i\n",
    "        if(i==0):\n",
    "            codificado.append(bin_data[i])\n",
    "        else:\n",
    "            if(bin_data[i] not in codificado): \n",
    "                codificado.append(bin_data[i])            \n",
    "        x=str(bin_data[count])\n",
    "        \n",
    "        while (x in dict_list):\n",
    "            \n",
    "            count+=1\n",
    "            if(count<data_size):\n",
    "                x+=str(bin_data[count])\n",
    "            else:\n",
    "                break\n",
    "        if(x not in dict_list):\n",
    "            dict_list.append(x) #Adiciona as duplas de letras no dict\n",
    "            print('entrou no dic +', x)\n",
    "        j+=1 #Adicionou um indice\n",
    "        i+=1 #Avança um caracter\n",
    "        \n",
    "    else: \n",
    "        dict_list.append(bin_data[i])\n",
    "        j+=1 #Adicionou um indice\n",
    "        i+=1 #Avança um caracter\n"
   ]
  },
  {
   "cell_type": "code",
   "execution_count": 16,
   "metadata": {},
   "outputs": [
    {
     "data": {
      "text/plain": [
       "[97, 98, 114, 99, 100]"
      ]
     },
     "execution_count": 16,
     "metadata": {},
     "output_type": "execute_result"
    }
   ],
   "source": [
    "codificado"
   ]
  },
  {
   "cell_type": "raw",
   "metadata": {},
   "source": [
    "j=dictionary_size_half+1\n",
    "i=0\n",
    "a=[]\n",
    "flag=0\n",
    "\n",
    "#abracadabra\n",
    "while(j!=dictionary_size_full):  \n",
    "    if (bin_data[i] in dict_list):\n",
    "        codificado.append(bin_data[i])\n",
    "        \n",
    "        dict_list.append(j+1) #Adiciona as duplas de letras no dict\n",
    "        j+=1 #Adicionou um indice\n",
    "        i+=1 #Avança um caracter\n",
    "    else: \n",
    "        dict_list.append(bin_data[i])\n",
    "        j+=1 #Adicionou um indice\n",
    "        i+=1 #Avança um caracter\n",
    "    if(i==len(bin_data)):\n",
    "        break"
   ]
  },
  {
   "cell_type": "code",
   "execution_count": null,
   "metadata": {},
   "outputs": [],
   "source": [
    "len(dict_list)"
   ]
  },
  {
   "cell_type": "code",
   "execution_count": null,
   "metadata": {},
   "outputs": [],
   "source": [
    "codificado"
   ]
  },
  {
   "cell_type": "code",
   "execution_count": null,
   "metadata": {},
   "outputs": [],
   "source": [
    "#dictionary = {chr(df[i]): i for i in range(dictionary_size_half)} #represents unicode code point of the character)    \n",
    "j=0\n",
    "i=0\n",
    "a=[]\n",
    "flag=0\n",
    "\n",
    "while(j!=dictionary_size_half):#represents unicode code point of the character)  \n",
    "    if(i==0):\n",
    "        a.append(bin_data[i])\n",
    "        i+=1 #Avança um caracter\n",
    "        j+=1 #Adicionou um indice\n",
    "    else:\n",
    "        if (bin_data[i] in a):\n",
    "            i+=1 #Avança um caracter\n",
    "        else: \n",
    "            a.append(bin_data[i])\n",
    "            j+=1 # Adicionou um indice\n",
    "            \n",
    "    if(i==len(bin_data)):\n",
    "        break #O texto tem menos de 250 caracteres unicos\n"
   ]
  },
  {
   "cell_type": "code",
   "execution_count": null,
   "metadata": {},
   "outputs": [],
   "source": [
    "len(dictionary)"
   ]
  },
  {
   "cell_type": "code",
   "execution_count": null,
   "metadata": {},
   "outputs": [],
   "source": [
    "for i in range (dictionary_size_half+1, dictionary_size_full):\n",
    "    dictionary['string'] = i\n"
   ]
  },
  {
   "cell_type": "code",
   "execution_count": null,
   "metadata": {},
   "outputs": [],
   "source": [
    "dictionary"
   ]
  },
  {
   "cell_type": "code",
   "execution_count": null,
   "metadata": {},
   "outputs": [],
   "source": [
    "len(dictionary)"
   ]
  },
  {
   "cell_type": "code",
   "execution_count": null,
   "metadata": {},
   "outputs": [],
   "source": [
    "dictionary"
   ]
  },
  {
   "cell_type": "code",
   "execution_count": null,
   "metadata": {},
   "outputs": [],
   "source": [
    "#a = map(bin,bytearray(dictionary))\n",
    "dictionary = ' '.join(format(ord(x), '08b') for x in dictionary)\n",
    "dictionary"
   ]
  },
  {
   "cell_type": "code",
   "execution_count": null,
   "metadata": {},
   "outputs": [],
   "source": [
    "s = \"\" # empty string\n",
    "compr_data = [] #compressed data\n",
    "count=0\n",
    "i=0;"
   ]
  },
  {
   "cell_type": "raw",
   "metadata": {},
   "source": [
    "#while ( could read a new byte from DF into c )\n",
    "b=[]\n",
    "a=''\n",
    "for i in df:     \n",
    "    if i!=\" \":\n",
    "        a+=i\n",
    "    if len(a)==8:\n",
    "        b.append(a)\n",
    "        a=''\n",
    "    \n",
    "\n",
    "\n",
    "# '01000001 00100000 01010010 01010101 01000001 00001101 00001010 00001101 00001010 01000101 \n",
    "# 01110101 00100000 01100001 01101101 01101111 00100000 011000'\n",
    "\n",
    "    \n",
    "   "
   ]
  },
  {
   "cell_type": "code",
   "execution_count": null,
   "metadata": {},
   "outputs": [],
   "source": [
    "print(b[:15]) "
   ]
  },
  {
   "cell_type": "raw",
   "metadata": {},
   "source": [
    "for i in b:\n",
    "    if i in dictionary:\n",
    "        s = i"
   ]
  },
  {
   "cell_type": "raw",
   "metadata": {},
   "source": [
    "out = input_file.split(\".\")[0]\n",
    "output_file = open(out + \".lzw\", \"wb\")\n",
    "for data in compressed_data:\n",
    "    output_file.write(pack('>H',int(data)))"
   ]
  },
  {
   "cell_type": "raw",
   "metadata": {},
   "source": [
    "import binascii\n",
    "import copy\n",
    "\n",
    "K = 9\n",
    "\n",
    "def fileToBinaryText(path):\n",
    "    file = open(path).read()\n",
    "    return ' '.join(format(ord(i), 'd') for i in file).split() #alterar 0:08b\n",
    "\n",
    "codificacao = fileToBinaryText(\"corpus16MB.txt\")\n",
    "# print(codificacao)\n",
    "\n",
    "next = pow(2,8) #256\n",
    "\n",
    "dicionario = {}\n",
    "for i in range(0,256):\n",
    "    dicionario[str(i)] = [str(i)] #alterar \"{0:08b}\".format(i)\n",
    "\n",
    "# print(dicionario[\"4\"])   #00000100 = 4 \n",
    "fim = ''\n",
    "indice = 0\n",
    "\n",
    "while indice < len(codificacao):\n",
    "    letra = codificacao[indice]\n",
    "#    print('Byte da vez: ' + letra)\n",
    "    bigKey = letra #chave\n",
    "    bigFreq = 1 #frequencia de coincidencia \n",
    "    for key,valor in dicionario.items(): #eh pra achar coincidencias dentro do dicionario\n",
    "         if letra == valor[0]:\n",
    "        #    print('\\tencontrou correspondente para em: %s -> [%s]' % (key,','.join(map(str,valor))))\n",
    "            freq = 1\n",
    "            for l in range(1,len(valor)): # l = numero entra 1 e o tamanho do valor atual no dicionario\n",
    "                if indice + l != len(codificacao) and codificacao[indice+l] == valor[l]: \n",
    "                    #se eu n to na ultima letra da mensagem e a proxima letra da mensagem = proxima letra do valor no dicionario\n",
    "                    freq += 1   # ma = ma\n",
    "                else:\n",
    "        #            print('\\t\\tacabou a coincidencia em %d' % freq)\n",
    "                    break\n",
    "        #    print('\\tfreq = %d' % freq)\n",
    "            if freq > bigFreq:\n",
    "                bigFreq = freq\n",
    "                bigKey = key\n",
    "    fim = fim + bigKey + ' '  #LEMBRAR DE TIRAR O ' ' DEPOIS!!!!!!!!!!!!!!!!!!!!!!!!!!!!!!!!!!!!!!!!!!!!!!!!!!!!!!!!!!!!!!!!!!!!!!!!!!!!!!!!!!!!!!!!!!!!!\n",
    "    if (indice + len(dicionario[bigKey])) != len(codificacao) and len(dicionario) < pow(2,K): #se a mensagem nao acabou e dicionario nao ta cheio\n",
    "        #adicionar novos elementos no dicionario\n",
    "        new = str(next)     #alterar \"{0:08b}\".format(i)\n",
    "        dicionario[new] = copy.deepcopy(dicionario[bigKey]) #M\n",
    "        dicionario[new].append(codificacao[indice + len(dicionario[bigKey])])  #append A\n",
    "    #    print('novo indice no dicionario: %s -> [%s]' % (new, ','.join(map(str,dicionario[new]))))\n",
    "        next += 1\n",
    "    indice += len(dicionario[bigKey]) \n",
    "\n",
    "#ISSO AQUI EH SO PRINT\n",
    "print('dicionario apos 255:')\n",
    "listadict = []\n",
    "for i in dicionario.keys():\n",
    "    if int(i) >= 256:\n",
    "        listadict.append(i)\n",
    "listadict.sort()\n",
    "for i in listadict:\n",
    "    print('%s -> %s' %(i, ','.join(map(str,dicionario[i]))))\n",
    "print('mensagem final: %s' % fim)  "
   ]
  },
  {
   "cell_type": "code",
   "execution_count": null,
   "metadata": {},
   "outputs": [],
   "source": [
    "def writeFile(path, texto):\n",
    "    file = open(path, \"wb\")\n",
    "    file.write(texto)\n",
    "\n",
    "def binaryTextTofile(text):\n",
    "    textArray = bytearray(text, \"utf8\")\n",
    "    byteList = []\n",
    "    for byte in textArray:\n",
    "        byteList.append(bin(byte))\n",
    "    return byteList\n",
    "\n",
    "arr = [97]                 #ISSO AQUI VAI SER MASSA NO FUTURO KKKKK IMAGINA TRUNKS CHEGANDO COM UM ARRAY DE 98 CASAS PRA MATAR O CELL \n",
    "format = bytearray(arr)    \n",
    "writeFile(\"outoputo.txt\", format)\n",
    "\n",
    "# decodificacao = binaryTextTofile(codificacao)\n",
    "# print(decodificacao)"
   ]
  },
  {
   "cell_type": "code",
   "execution_count": null,
   "metadata": {},
   "outputs": [],
   "source": [
    "abracadabra"
   ]
  }
 ],
 "metadata": {
  "kernelspec": {
   "display_name": "Python 3",
   "language": "python",
   "name": "python3"
  },
  "language_info": {
   "codemirror_mode": {
    "name": "ipython",
    "version": 3
   },
   "file_extension": ".py",
   "mimetype": "text/x-python",
   "name": "python",
   "nbconvert_exporter": "python",
   "pygments_lexer": "ipython3",
   "version": "3.7.4"
  }
 },
 "nbformat": 4,
 "nbformat_minor": 4
}
